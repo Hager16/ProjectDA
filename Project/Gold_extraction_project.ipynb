{
  "cells": [
    {
      "cell_type": "markdown",
      "metadata": {
        "toc": true,
        "id": "V6TmhyK57Bbx"
      },
      "source": [
        "<h1>Content<span class=\"tocSkip\"></span></h1>\n",
        "<div class=\"toc\"><ul class=\"toc-item\"><li><span><a href=\"#Data-Preparation\" data-toc-modified-id=\"Data-Preparation-1\"><span class=\"toc-item-num\">1&nbsp;&nbsp;</span>Data Preparation</a></span></li><li><span><a href=\"#Data-Analysis\" data-toc-modified-id=\"Data-Analysis-2\"><span class=\"toc-item-num\">2&nbsp;&nbsp;</span>Data Analysis</a></span></li><li><span><a href=\"#Model\" data-toc-modified-id=\"Model-3\"><span class=\"toc-item-num\">3&nbsp;&nbsp;</span>Model</a></span></li>"
      ]
    },
    {
      "cell_type": "markdown",
      "metadata": {
        "id": "c1dTg1dw7Bby"
      },
      "source": [
        "# Recovery of gold from ore"
      ]
    },
    {
      "cell_type": "markdown",
      "metadata": {
        "id": "bQaa-ori7Bby"
      },
      "source": [
        "Preparation of a prototype machine learning model for the company that develops solutions for the efficient operation of industrial enterprises.\n",
        "\n",
        "The model should predict the recovery rate of gold from gold ore. We will use data with extraction and purification parameters.\n",
        "\n",
        "The model will help optimize production so as not to launch an enterprise with unprofitable characteristics.\n",
        "\n",
        "Tasks:\n",
        "\n",
        "1. Prepare data;\n",
        "2. Conduct exploratory data analysis;\n",
        "3. Build and train the model."
      ]
    },
    {
      "cell_type": "markdown",
      "metadata": {
        "id": "T8HS-Ulx7Bby"
      },
      "source": [
        "## Data Preparation"
      ]
    },
    {
      "cell_type": "code",
      "execution_count": null,
      "metadata": {
        "id": "r113ApF47Bbz"
      },
      "outputs": [],
      "source": [
        "import pandas as pd\n",
        "import numpy as np\n",
        "import plotly.express as px\n",
        "from sklearn.metrics import mean_absolute_error\n",
        "import matplotlib.pyplot as plt\n",
        "from sklearn.model_selection import GridSearchCV\n",
        "from sklearn.metrics import make_scorer\n",
        "from sklearn.svm import SVR \n",
        "from sklearn.preprocessing import StandardScaler\n",
        "from sklearn.linear_model import LinearRegression\n",
        "from sklearn.ensemble import RandomForestRegressor\n",
        "from sklearn.tree import DecisionTreeRegressor"
      ]
    },
    {
      "cell_type": "code",
      "execution_count": null,
      "metadata": {
        "id": "AHyccW7m7Bb0"
      },
      "outputs": [],
      "source": [
        "data_train = pd.read_csv('gold_recovery_train_new.csv')\n",
        "data_test = pd.read_csv('gold_recovery_test_new.csv')\n",
        "data_full = pd.read_csv('gold_recovery_full_new.csv')"
      ]
    },
    {
      "cell_type": "code",
      "execution_count": null,
      "metadata": {
        "id": "r-hSIVMZ7Bb1"
      },
      "outputs": [],
      "source": [
        "#Fill in the gaps in the training data\n",
        "data_train = data_train.fillna(value=None, method='ffill')"
      ]
    },
    {
      "cell_type": "code",
      "execution_count": null,
      "metadata": {
        "colab": {
          "base_uri": "https://localhost:8080/"
        },
        "id": "eP-0QPEY7Bb1",
        "outputId": "398fc248-efe1-4297-b116-23339c505e36"
      },
      "outputs": [
        {
          "output_type": "stream",
          "name": "stdout",
          "text": [
            "<class 'pandas.core.frame.DataFrame'>\n",
            "RangeIndex: 14149 entries, 0 to 14148\n",
            "Data columns (total 87 columns):\n",
            " #   Column                                              Non-Null Count  Dtype  \n",
            "---  ------                                              --------------  -----  \n",
            " 0   date                                                14149 non-null  object \n",
            " 1   final.output.concentrate_ag                         14149 non-null  float64\n",
            " 2   final.output.concentrate_pb                         14149 non-null  float64\n",
            " 3   final.output.concentrate_sol                        14149 non-null  float64\n",
            " 4   final.output.concentrate_au                         14149 non-null  float64\n",
            " 5   final.output.recovery                               14149 non-null  float64\n",
            " 6   final.output.tail_ag                                14149 non-null  float64\n",
            " 7   final.output.tail_pb                                14149 non-null  float64\n",
            " 8   final.output.tail_sol                               14149 non-null  float64\n",
            " 9   final.output.tail_au                                14149 non-null  float64\n",
            " 10  primary_cleaner.input.sulfate                       14149 non-null  float64\n",
            " 11  primary_cleaner.input.depressant                    14149 non-null  float64\n",
            " 12  primary_cleaner.input.feed_size                     14149 non-null  float64\n",
            " 13  primary_cleaner.input.xanthate                      14149 non-null  float64\n",
            " 14  primary_cleaner.output.concentrate_ag               14149 non-null  float64\n",
            " 15  primary_cleaner.output.concentrate_pb               14149 non-null  float64\n",
            " 16  primary_cleaner.output.concentrate_sol              14149 non-null  float64\n",
            " 17  primary_cleaner.output.concentrate_au               14149 non-null  float64\n",
            " 18  primary_cleaner.output.tail_ag                      14149 non-null  float64\n",
            " 19  primary_cleaner.output.tail_pb                      14149 non-null  float64\n",
            " 20  primary_cleaner.output.tail_sol                     14149 non-null  float64\n",
            " 21  primary_cleaner.output.tail_au                      14149 non-null  float64\n",
            " 22  primary_cleaner.state.floatbank8_a_air              14149 non-null  float64\n",
            " 23  primary_cleaner.state.floatbank8_a_level            14149 non-null  float64\n",
            " 24  primary_cleaner.state.floatbank8_b_air              14149 non-null  float64\n",
            " 25  primary_cleaner.state.floatbank8_b_level            14149 non-null  float64\n",
            " 26  primary_cleaner.state.floatbank8_c_air              14149 non-null  float64\n",
            " 27  primary_cleaner.state.floatbank8_c_level            14149 non-null  float64\n",
            " 28  primary_cleaner.state.floatbank8_d_air              14149 non-null  float64\n",
            " 29  primary_cleaner.state.floatbank8_d_level            14149 non-null  float64\n",
            " 30  rougher.calculation.sulfate_to_au_concentrate       14149 non-null  float64\n",
            " 31  rougher.calculation.floatbank10_sulfate_to_au_feed  14149 non-null  float64\n",
            " 32  rougher.calculation.floatbank11_sulfate_to_au_feed  14149 non-null  float64\n",
            " 33  rougher.calculation.au_pb_ratio                     14149 non-null  float64\n",
            " 34  rougher.input.feed_ag                               14149 non-null  float64\n",
            " 35  rougher.input.feed_pb                               14149 non-null  float64\n",
            " 36  rougher.input.feed_rate                             14149 non-null  float64\n",
            " 37  rougher.input.feed_size                             14149 non-null  float64\n",
            " 38  rougher.input.feed_sol                              14149 non-null  float64\n",
            " 39  rougher.input.feed_au                               14149 non-null  float64\n",
            " 40  rougher.input.floatbank10_sulfate                   14149 non-null  float64\n",
            " 41  rougher.input.floatbank10_xanthate                  14149 non-null  float64\n",
            " 42  rougher.input.floatbank11_sulfate                   14149 non-null  float64\n",
            " 43  rougher.input.floatbank11_xanthate                  14149 non-null  float64\n",
            " 44  rougher.output.concentrate_ag                       14149 non-null  float64\n",
            " 45  rougher.output.concentrate_pb                       14149 non-null  float64\n",
            " 46  rougher.output.concentrate_sol                      14149 non-null  float64\n",
            " 47  rougher.output.concentrate_au                       14149 non-null  float64\n",
            " 48  rougher.output.recovery                             14149 non-null  float64\n",
            " 49  rougher.output.tail_ag                              14149 non-null  float64\n",
            " 50  rougher.output.tail_pb                              14149 non-null  float64\n",
            " 51  rougher.output.tail_sol                             14149 non-null  float64\n",
            " 52  rougher.output.tail_au                              14149 non-null  float64\n",
            " 53  rougher.state.floatbank10_a_air                     14149 non-null  float64\n",
            " 54  rougher.state.floatbank10_a_level                   14149 non-null  float64\n",
            " 55  rougher.state.floatbank10_b_air                     14149 non-null  float64\n",
            " 56  rougher.state.floatbank10_b_level                   14149 non-null  float64\n",
            " 57  rougher.state.floatbank10_c_air                     14149 non-null  float64\n",
            " 58  rougher.state.floatbank10_c_level                   14149 non-null  float64\n",
            " 59  rougher.state.floatbank10_d_air                     14149 non-null  float64\n",
            " 60  rougher.state.floatbank10_d_level                   14149 non-null  float64\n",
            " 61  rougher.state.floatbank10_e_air                     14149 non-null  float64\n",
            " 62  rougher.state.floatbank10_e_level                   14149 non-null  float64\n",
            " 63  rougher.state.floatbank10_f_air                     14149 non-null  float64\n",
            " 64  rougher.state.floatbank10_f_level                   14149 non-null  float64\n",
            " 65  secondary_cleaner.output.tail_ag                    14149 non-null  float64\n",
            " 66  secondary_cleaner.output.tail_pb                    14149 non-null  float64\n",
            " 67  secondary_cleaner.output.tail_sol                   14149 non-null  float64\n",
            " 68  secondary_cleaner.output.tail_au                    14149 non-null  float64\n",
            " 69  secondary_cleaner.state.floatbank2_a_air            14149 non-null  float64\n",
            " 70  secondary_cleaner.state.floatbank2_a_level          14149 non-null  float64\n",
            " 71  secondary_cleaner.state.floatbank2_b_air            14149 non-null  float64\n",
            " 72  secondary_cleaner.state.floatbank2_b_level          14149 non-null  float64\n",
            " 73  secondary_cleaner.state.floatbank3_a_air            14149 non-null  float64\n",
            " 74  secondary_cleaner.state.floatbank3_a_level          14149 non-null  float64\n",
            " 75  secondary_cleaner.state.floatbank3_b_air            14149 non-null  float64\n",
            " 76  secondary_cleaner.state.floatbank3_b_level          14149 non-null  float64\n",
            " 77  secondary_cleaner.state.floatbank4_a_air            14149 non-null  float64\n",
            " 78  secondary_cleaner.state.floatbank4_a_level          14149 non-null  float64\n",
            " 79  secondary_cleaner.state.floatbank4_b_air            14149 non-null  float64\n",
            " 80  secondary_cleaner.state.floatbank4_b_level          14149 non-null  float64\n",
            " 81  secondary_cleaner.state.floatbank5_a_air            14149 non-null  float64\n",
            " 82  secondary_cleaner.state.floatbank5_a_level          14149 non-null  float64\n",
            " 83  secondary_cleaner.state.floatbank5_b_air            14149 non-null  float64\n",
            " 84  secondary_cleaner.state.floatbank5_b_level          14149 non-null  float64\n",
            " 85  secondary_cleaner.state.floatbank6_a_air            14149 non-null  float64\n",
            " 86  secondary_cleaner.state.floatbank6_a_level          14149 non-null  float64\n",
            "dtypes: float64(86), object(1)\n",
            "memory usage: 9.4+ MB\n"
          ]
        }
      ],
      "source": [
        "data_train.info()"
      ]
    },
    {
      "cell_type": "code",
      "execution_count": null,
      "metadata": {
        "id": "thmCk8At7Bb2"
      },
      "outputs": [],
      "source": [
        "#Check the correctness of the enrichment efficiency calculation\n",
        "C = data_train['rougher.output.concentrate_au']\n",
        "F = data_train['rougher.input.feed_au']\n",
        "T = data_train['rougher.output.tail_au']\n",
        "counted_recovery = (C*(F-T))/(F*(C-T))*100"
      ]
    },
    {
      "cell_type": "code",
      "execution_count": null,
      "metadata": {
        "scrolled": true,
        "colab": {
          "base_uri": "https://localhost:8080/"
        },
        "id": "6phK6znI7Bb2",
        "outputId": "47b171ba-f885-4f85-eee1-9a8bfa9eba20"
      },
      "outputs": [
        {
          "output_type": "stream",
          "name": "stdout",
          "text": [
            "MAE value: 9.73512347450521e-15\n"
          ]
        }
      ],
      "source": [
        "print('MAE value: {}'.format(mean_absolute_error(data_train['rougher.output.recovery'], counted_recovery)))"
      ]
    },
    {
      "cell_type": "markdown",
      "metadata": {
        "id": "KJHMk-h-7Bb3"
      },
      "source": [
        "The MAE value is very small and corresponds to the measurement error of enrichment efficiency. We conclude that the calculation of the efficiency of enrichment of raw materials after flotation is correct."
      ]
    },
    {
      "cell_type": "code",
      "execution_count": null,
      "metadata": {
        "id": "XjZGPwmW7Bb3"
      },
      "outputs": [],
      "source": [
        "#Fill in the gaps in the test data\n",
        "data_test = data_test.fillna(value=None, method='ffill')"
      ]
    },
    {
      "cell_type": "code",
      "execution_count": null,
      "metadata": {
        "colab": {
          "base_uri": "https://localhost:8080/"
        },
        "id": "dUCHo-NH7Bb3",
        "outputId": "d38ec20a-21ed-48f8-c370-2f2450b13430"
      },
      "outputs": [
        {
          "output_type": "stream",
          "name": "stdout",
          "text": [
            "<class 'pandas.core.frame.DataFrame'>\n",
            "RangeIndex: 14149 entries, 0 to 14148\n",
            "Data columns (total 34 columns):\n",
            " #   Column                                              Non-Null Count  Dtype  \n",
            "---  ------                                              --------------  -----  \n",
            " 0   final.output.concentrate_ag                         14149 non-null  float64\n",
            " 1   final.output.concentrate_pb                         14149 non-null  float64\n",
            " 2   final.output.concentrate_sol                        14149 non-null  float64\n",
            " 3   final.output.concentrate_au                         14149 non-null  float64\n",
            " 4   final.output.recovery                               14149 non-null  float64\n",
            " 5   final.output.tail_ag                                14149 non-null  float64\n",
            " 6   final.output.tail_pb                                14149 non-null  float64\n",
            " 7   final.output.tail_sol                               14149 non-null  float64\n",
            " 8   final.output.tail_au                                14149 non-null  float64\n",
            " 9   primary_cleaner.output.concentrate_ag               14149 non-null  float64\n",
            " 10  primary_cleaner.output.concentrate_pb               14149 non-null  float64\n",
            " 11  primary_cleaner.output.concentrate_sol              14149 non-null  float64\n",
            " 12  primary_cleaner.output.concentrate_au               14149 non-null  float64\n",
            " 13  primary_cleaner.output.tail_ag                      14149 non-null  float64\n",
            " 14  primary_cleaner.output.tail_pb                      14149 non-null  float64\n",
            " 15  primary_cleaner.output.tail_sol                     14149 non-null  float64\n",
            " 16  primary_cleaner.output.tail_au                      14149 non-null  float64\n",
            " 17  rougher.calculation.sulfate_to_au_concentrate       14149 non-null  float64\n",
            " 18  rougher.calculation.floatbank10_sulfate_to_au_feed  14149 non-null  float64\n",
            " 19  rougher.calculation.floatbank11_sulfate_to_au_feed  14149 non-null  float64\n",
            " 20  rougher.calculation.au_pb_ratio                     14149 non-null  float64\n",
            " 21  rougher.output.concentrate_ag                       14149 non-null  float64\n",
            " 22  rougher.output.concentrate_pb                       14149 non-null  float64\n",
            " 23  rougher.output.concentrate_sol                      14149 non-null  float64\n",
            " 24  rougher.output.concentrate_au                       14149 non-null  float64\n",
            " 25  rougher.output.recovery                             14149 non-null  float64\n",
            " 26  rougher.output.tail_ag                              14149 non-null  float64\n",
            " 27  rougher.output.tail_pb                              14149 non-null  float64\n",
            " 28  rougher.output.tail_sol                             14149 non-null  float64\n",
            " 29  rougher.output.tail_au                              14149 non-null  float64\n",
            " 30  secondary_cleaner.output.tail_ag                    14149 non-null  float64\n",
            " 31  secondary_cleaner.output.tail_pb                    14149 non-null  float64\n",
            " 32  secondary_cleaner.output.tail_sol                   14149 non-null  float64\n",
            " 33  secondary_cleaner.output.tail_au                    14149 non-null  float64\n",
            "dtypes: float64(34)\n",
            "memory usage: 3.7 MB\n"
          ]
        }
      ],
      "source": [
        "#Check the missing features in the test sample\n",
        "data_train[data_train.columns[~data_train.columns.isin(data_test)]].info()"
      ]
    },
    {
      "cell_type": "markdown",
      "metadata": {
        "id": "Y4I2w6An7Bb3"
      },
      "source": [
        "The missing parameters are of the float type and are calculated based on the results of each stage of ore processing."
      ]
    },
    {
      "cell_type": "markdown",
      "metadata": {
        "id": "5FUAhAvw7Bb4"
      },
      "source": [
        "In the test sample, some calculated (calculation) and output (output) characteristics of the process are not available because they cannot be obtained or measured during the execution of the technological process."
      ]
    },
    {
      "cell_type": "markdown",
      "metadata": {
        "id": "gTbFLBSB7Bb4"
      },
      "source": [
        "## Data Analysis"
      ]
    },
    {
      "cell_type": "code",
      "execution_count": null,
      "metadata": {
        "colab": {
          "base_uri": "https://localhost:8080/"
        },
        "id": "DFyXP3wz7Bb4",
        "outputId": "ee4e5465-43fa-4f0e-b619-c9cbf655c1e9"
      },
      "outputs": [
        {
          "output_type": "stream",
          "name": "stdout",
          "text": [
            "<class 'pandas.core.frame.DataFrame'>\n",
            "RangeIndex: 14149 entries, 0 to 14148\n",
            "Data columns (total 87 columns):\n",
            " #   Column                                              Non-Null Count  Dtype  \n",
            "---  ------                                              --------------  -----  \n",
            " 0   date                                                14149 non-null  object \n",
            " 1   final.output.concentrate_ag                         14149 non-null  float64\n",
            " 2   final.output.concentrate_pb                         14149 non-null  float64\n",
            " 3   final.output.concentrate_sol                        14149 non-null  float64\n",
            " 4   final.output.concentrate_au                         14149 non-null  float64\n",
            " 5   final.output.recovery                               14149 non-null  float64\n",
            " 6   final.output.tail_ag                                14149 non-null  float64\n",
            " 7   final.output.tail_pb                                14149 non-null  float64\n",
            " 8   final.output.tail_sol                               14149 non-null  float64\n",
            " 9   final.output.tail_au                                14149 non-null  float64\n",
            " 10  primary_cleaner.input.sulfate                       14149 non-null  float64\n",
            " 11  primary_cleaner.input.depressant                    14149 non-null  float64\n",
            " 12  primary_cleaner.input.feed_size                     14149 non-null  float64\n",
            " 13  primary_cleaner.input.xanthate                      14149 non-null  float64\n",
            " 14  primary_cleaner.output.concentrate_ag               14149 non-null  float64\n",
            " 15  primary_cleaner.output.concentrate_pb               14149 non-null  float64\n",
            " 16  primary_cleaner.output.concentrate_sol              14149 non-null  float64\n",
            " 17  primary_cleaner.output.concentrate_au               14149 non-null  float64\n",
            " 18  primary_cleaner.output.tail_ag                      14149 non-null  float64\n",
            " 19  primary_cleaner.output.tail_pb                      14149 non-null  float64\n",
            " 20  primary_cleaner.output.tail_sol                     14149 non-null  float64\n",
            " 21  primary_cleaner.output.tail_au                      14149 non-null  float64\n",
            " 22  primary_cleaner.state.floatbank8_a_air              14149 non-null  float64\n",
            " 23  primary_cleaner.state.floatbank8_a_level            14149 non-null  float64\n",
            " 24  primary_cleaner.state.floatbank8_b_air              14149 non-null  float64\n",
            " 25  primary_cleaner.state.floatbank8_b_level            14149 non-null  float64\n",
            " 26  primary_cleaner.state.floatbank8_c_air              14149 non-null  float64\n",
            " 27  primary_cleaner.state.floatbank8_c_level            14149 non-null  float64\n",
            " 28  primary_cleaner.state.floatbank8_d_air              14149 non-null  float64\n",
            " 29  primary_cleaner.state.floatbank8_d_level            14149 non-null  float64\n",
            " 30  rougher.calculation.sulfate_to_au_concentrate       14149 non-null  float64\n",
            " 31  rougher.calculation.floatbank10_sulfate_to_au_feed  14149 non-null  float64\n",
            " 32  rougher.calculation.floatbank11_sulfate_to_au_feed  14149 non-null  float64\n",
            " 33  rougher.calculation.au_pb_ratio                     14149 non-null  float64\n",
            " 34  rougher.input.feed_ag                               14149 non-null  float64\n",
            " 35  rougher.input.feed_pb                               14149 non-null  float64\n",
            " 36  rougher.input.feed_rate                             14149 non-null  float64\n",
            " 37  rougher.input.feed_size                             14149 non-null  float64\n",
            " 38  rougher.input.feed_sol                              14149 non-null  float64\n",
            " 39  rougher.input.feed_au                               14149 non-null  float64\n",
            " 40  rougher.input.floatbank10_sulfate                   14149 non-null  float64\n",
            " 41  rougher.input.floatbank10_xanthate                  14149 non-null  float64\n",
            " 42  rougher.input.floatbank11_sulfate                   14149 non-null  float64\n",
            " 43  rougher.input.floatbank11_xanthate                  14149 non-null  float64\n",
            " 44  rougher.output.concentrate_ag                       14149 non-null  float64\n",
            " 45  rougher.output.concentrate_pb                       14149 non-null  float64\n",
            " 46  rougher.output.concentrate_sol                      14149 non-null  float64\n",
            " 47  rougher.output.concentrate_au                       14149 non-null  float64\n",
            " 48  rougher.output.recovery                             14149 non-null  float64\n",
            " 49  rougher.output.tail_ag                              14149 non-null  float64\n",
            " 50  rougher.output.tail_pb                              14149 non-null  float64\n",
            " 51  rougher.output.tail_sol                             14149 non-null  float64\n",
            " 52  rougher.output.tail_au                              14149 non-null  float64\n",
            " 53  rougher.state.floatbank10_a_air                     14149 non-null  float64\n",
            " 54  rougher.state.floatbank10_a_level                   14149 non-null  float64\n",
            " 55  rougher.state.floatbank10_b_air                     14149 non-null  float64\n",
            " 56  rougher.state.floatbank10_b_level                   14149 non-null  float64\n",
            " 57  rougher.state.floatbank10_c_air                     14149 non-null  float64\n",
            " 58  rougher.state.floatbank10_c_level                   14149 non-null  float64\n",
            " 59  rougher.state.floatbank10_d_air                     14149 non-null  float64\n",
            " 60  rougher.state.floatbank10_d_level                   14149 non-null  float64\n",
            " 61  rougher.state.floatbank10_e_air                     14149 non-null  float64\n",
            " 62  rougher.state.floatbank10_e_level                   14149 non-null  float64\n",
            " 63  rougher.state.floatbank10_f_air                     14149 non-null  float64\n",
            " 64  rougher.state.floatbank10_f_level                   14149 non-null  float64\n",
            " 65  secondary_cleaner.output.tail_ag                    14149 non-null  float64\n",
            " 66  secondary_cleaner.output.tail_pb                    14149 non-null  float64\n",
            " 67  secondary_cleaner.output.tail_sol                   14149 non-null  float64\n",
            " 68  secondary_cleaner.output.tail_au                    14149 non-null  float64\n",
            " 69  secondary_cleaner.state.floatbank2_a_air            14149 non-null  float64\n",
            " 70  secondary_cleaner.state.floatbank2_a_level          14149 non-null  float64\n",
            " 71  secondary_cleaner.state.floatbank2_b_air            14149 non-null  float64\n",
            " 72  secondary_cleaner.state.floatbank2_b_level          14149 non-null  float64\n",
            " 73  secondary_cleaner.state.floatbank3_a_air            14149 non-null  float64\n",
            " 74  secondary_cleaner.state.floatbank3_a_level          14149 non-null  float64\n",
            " 75  secondary_cleaner.state.floatbank3_b_air            14149 non-null  float64\n",
            " 76  secondary_cleaner.state.floatbank3_b_level          14149 non-null  float64\n",
            " 77  secondary_cleaner.state.floatbank4_a_air            14149 non-null  float64\n",
            " 78  secondary_cleaner.state.floatbank4_a_level          14149 non-null  float64\n",
            " 79  secondary_cleaner.state.floatbank4_b_air            14149 non-null  float64\n",
            " 80  secondary_cleaner.state.floatbank4_b_level          14149 non-null  float64\n",
            " 81  secondary_cleaner.state.floatbank5_a_air            14149 non-null  float64\n",
            " 82  secondary_cleaner.state.floatbank5_a_level          14149 non-null  float64\n",
            " 83  secondary_cleaner.state.floatbank5_b_air            14149 non-null  float64\n",
            " 84  secondary_cleaner.state.floatbank5_b_level          14149 non-null  float64\n",
            " 85  secondary_cleaner.state.floatbank6_a_air            14149 non-null  float64\n",
            " 86  secondary_cleaner.state.floatbank6_a_level          14149 non-null  float64\n",
            "dtypes: float64(86), object(1)\n",
            "memory usage: 9.4+ MB\n"
          ]
        }
      ],
      "source": [
        "data_train.info()"
      ]
    },
    {
      "cell_type": "code",
      "execution_count": null,
      "metadata": {
        "id": "sAuFKGJf7Bb4"
      },
      "outputs": [],
      "source": [
        "#Check the concentration of metals at various stages of purification\n",
        "concentrate_au_dynamics=data_train[['rougher.output.concentrate_au', 'primary_cleaner.output.concentrate_au',\n",
        "'final.output.concentrate_au']]\n",
        "concentrate_ag_dynamics=data_train[['rougher.output.concentrate_ag', 'primary_cleaner.output.concentrate_ag',\n",
        "'final.output.concentrate_ag']]\n",
        "concentrate_pb_dynamics=data_train[['rougher.output.concentrate_pb', 'primary_cleaner.output.concentrate_pb',\n",
        "'final.output.concentrate_pb']]"
      ]
    },
    {
      "cell_type": "code",
      "execution_count": null,
      "metadata": {
        "colab": {
          "base_uri": "https://localhost:8080/",
          "height": 542
        },
        "id": "_9PIehSZ7Bb4",
        "outputId": "d47171ab-dbe4-442a-d71a-e1fa03ca1e8d"
      },
      "outputs": [
        {
          "output_type": "display_data",
          "data": {
            "text/html": [
              "<html>\n",
              "<head><meta charset=\"utf-8\" /></head>\n",
              "<body>\n",
              "    <div>            <script src=\"https://cdnjs.cloudflare.com/ajax/libs/mathjax/2.7.5/MathJax.js?config=TeX-AMS-MML_SVG\"></script><script type=\"text/javascript\">if (window.MathJax) {MathJax.Hub.Config({SVG: {font: \"STIX-Web\"}});}</script>                <script type=\"text/javascript\">window.PlotlyConfig = {MathJaxConfig: 'local'};</script>\n",
              "        <script src=\"https://cdn.plot.ly/plotly-2.8.3.min.js\"></script>                <div id=\"5fb2d89b-5f35-4441-9e2e-400a21490a83\" class=\"plotly-graph-div\" style=\"height:525px; width:100%;\"></div>            <script type=\"text/javascript\">                                    window.PLOTLYENV=window.PLOTLYENV || {};                                    if (document.getElementById(\"5fb2d89b-5f35-4441-9e2e-400a21490a83\")) {                    Plotly.newPlot(                        \"5fb2d89b-5f35-4441-9e2e-400a21490a83\",                        [{\"marker\":{\"color\":\"rgba(50, 171, 96, 0.6)\",\"line\":{\"color\":\"rgba(50, 171, 96, 1.0)\",\"width\":1}},\"name\":\"Cummulative sum of AU concentration per step, %\",\"orientation\":\"h\",\"x\":[275055.9636399745,458241.3422582592,622609.6476463173],\"y\":[\"rougher.output.concentrate_au\",\"primary_cleaner.output.concentrate_au\",\"final.output.concentrate_au\"],\"type\":\"bar\",\"xaxis\":\"x\",\"yaxis\":\"y\"},{\"line\":{\"color\":\"rgb(128, 0, 128)\"},\"mode\":\"lines+markers\",\"name\":\"Mean AU concentrate per step, %\",\"x\":[19.43995785143646,32.386835978391346,44.00379162105571],\"y\":[\"rougher.output.concentrate_au\",\"primary_cleaner.output.concentrate_au\",\"final.output.concentrate_au\"],\"type\":\"scatter\",\"xaxis\":\"x2\",\"yaxis\":\"y2\"}],                        {\"template\":{\"data\":{\"bar\":[{\"error_x\":{\"color\":\"#2a3f5f\"},\"error_y\":{\"color\":\"#2a3f5f\"},\"marker\":{\"line\":{\"color\":\"#E5ECF6\",\"width\":0.5},\"pattern\":{\"fillmode\":\"overlay\",\"size\":10,\"solidity\":0.2}},\"type\":\"bar\"}],\"barpolar\":[{\"marker\":{\"line\":{\"color\":\"#E5ECF6\",\"width\":0.5},\"pattern\":{\"fillmode\":\"overlay\",\"size\":10,\"solidity\":0.2}},\"type\":\"barpolar\"}],\"carpet\":[{\"aaxis\":{\"endlinecolor\":\"#2a3f5f\",\"gridcolor\":\"white\",\"linecolor\":\"white\",\"minorgridcolor\":\"white\",\"startlinecolor\":\"#2a3f5f\"},\"baxis\":{\"endlinecolor\":\"#2a3f5f\",\"gridcolor\":\"white\",\"linecolor\":\"white\",\"minorgridcolor\":\"white\",\"startlinecolor\":\"#2a3f5f\"},\"type\":\"carpet\"}],\"choropleth\":[{\"colorbar\":{\"outlinewidth\":0,\"ticks\":\"\"},\"type\":\"choropleth\"}],\"contour\":[{\"colorbar\":{\"outlinewidth\":0,\"ticks\":\"\"},\"colorscale\":[[0.0,\"#0d0887\"],[0.1111111111111111,\"#46039f\"],[0.2222222222222222,\"#7201a8\"],[0.3333333333333333,\"#9c179e\"],[0.4444444444444444,\"#bd3786\"],[0.5555555555555556,\"#d8576b\"],[0.6666666666666666,\"#ed7953\"],[0.7777777777777778,\"#fb9f3a\"],[0.8888888888888888,\"#fdca26\"],[1.0,\"#f0f921\"]],\"type\":\"contour\"}],\"contourcarpet\":[{\"colorbar\":{\"outlinewidth\":0,\"ticks\":\"\"},\"type\":\"contourcarpet\"}],\"heatmap\":[{\"colorbar\":{\"outlinewidth\":0,\"ticks\":\"\"},\"colorscale\":[[0.0,\"#0d0887\"],[0.1111111111111111,\"#46039f\"],[0.2222222222222222,\"#7201a8\"],[0.3333333333333333,\"#9c179e\"],[0.4444444444444444,\"#bd3786\"],[0.5555555555555556,\"#d8576b\"],[0.6666666666666666,\"#ed7953\"],[0.7777777777777778,\"#fb9f3a\"],[0.8888888888888888,\"#fdca26\"],[1.0,\"#f0f921\"]],\"type\":\"heatmap\"}],\"heatmapgl\":[{\"colorbar\":{\"outlinewidth\":0,\"ticks\":\"\"},\"colorscale\":[[0.0,\"#0d0887\"],[0.1111111111111111,\"#46039f\"],[0.2222222222222222,\"#7201a8\"],[0.3333333333333333,\"#9c179e\"],[0.4444444444444444,\"#bd3786\"],[0.5555555555555556,\"#d8576b\"],[0.6666666666666666,\"#ed7953\"],[0.7777777777777778,\"#fb9f3a\"],[0.8888888888888888,\"#fdca26\"],[1.0,\"#f0f921\"]],\"type\":\"heatmapgl\"}],\"histogram\":[{\"marker\":{\"pattern\":{\"fillmode\":\"overlay\",\"size\":10,\"solidity\":0.2}},\"type\":\"histogram\"}],\"histogram2d\":[{\"colorbar\":{\"outlinewidth\":0,\"ticks\":\"\"},\"colorscale\":[[0.0,\"#0d0887\"],[0.1111111111111111,\"#46039f\"],[0.2222222222222222,\"#7201a8\"],[0.3333333333333333,\"#9c179e\"],[0.4444444444444444,\"#bd3786\"],[0.5555555555555556,\"#d8576b\"],[0.6666666666666666,\"#ed7953\"],[0.7777777777777778,\"#fb9f3a\"],[0.8888888888888888,\"#fdca26\"],[1.0,\"#f0f921\"]],\"type\":\"histogram2d\"}],\"histogram2dcontour\":[{\"colorbar\":{\"outlinewidth\":0,\"ticks\":\"\"},\"colorscale\":[[0.0,\"#0d0887\"],[0.1111111111111111,\"#46039f\"],[0.2222222222222222,\"#7201a8\"],[0.3333333333333333,\"#9c179e\"],[0.4444444444444444,\"#bd3786\"],[0.5555555555555556,\"#d8576b\"],[0.6666666666666666,\"#ed7953\"],[0.7777777777777778,\"#fb9f3a\"],[0.8888888888888888,\"#fdca26\"],[1.0,\"#f0f921\"]],\"type\":\"histogram2dcontour\"}],\"mesh3d\":[{\"colorbar\":{\"outlinewidth\":0,\"ticks\":\"\"},\"type\":\"mesh3d\"}],\"parcoords\":[{\"line\":{\"colorbar\":{\"outlinewidth\":0,\"ticks\":\"\"}},\"type\":\"parcoords\"}],\"pie\":[{\"automargin\":true,\"type\":\"pie\"}],\"scatter\":[{\"marker\":{\"colorbar\":{\"outlinewidth\":0,\"ticks\":\"\"}},\"type\":\"scatter\"}],\"scatter3d\":[{\"line\":{\"colorbar\":{\"outlinewidth\":0,\"ticks\":\"\"}},\"marker\":{\"colorbar\":{\"outlinewidth\":0,\"ticks\":\"\"}},\"type\":\"scatter3d\"}],\"scattercarpet\":[{\"marker\":{\"colorbar\":{\"outlinewidth\":0,\"ticks\":\"\"}},\"type\":\"scattercarpet\"}],\"scattergeo\":[{\"marker\":{\"colorbar\":{\"outlinewidth\":0,\"ticks\":\"\"}},\"type\":\"scattergeo\"}],\"scattergl\":[{\"marker\":{\"colorbar\":{\"outlinewidth\":0,\"ticks\":\"\"}},\"type\":\"scattergl\"}],\"scattermapbox\":[{\"marker\":{\"colorbar\":{\"outlinewidth\":0,\"ticks\":\"\"}},\"type\":\"scattermapbox\"}],\"scatterpolar\":[{\"marker\":{\"colorbar\":{\"outlinewidth\":0,\"ticks\":\"\"}},\"type\":\"scatterpolar\"}],\"scatterpolargl\":[{\"marker\":{\"colorbar\":{\"outlinewidth\":0,\"ticks\":\"\"}},\"type\":\"scatterpolargl\"}],\"scatterternary\":[{\"marker\":{\"colorbar\":{\"outlinewidth\":0,\"ticks\":\"\"}},\"type\":\"scatterternary\"}],\"surface\":[{\"colorbar\":{\"outlinewidth\":0,\"ticks\":\"\"},\"colorscale\":[[0.0,\"#0d0887\"],[0.1111111111111111,\"#46039f\"],[0.2222222222222222,\"#7201a8\"],[0.3333333333333333,\"#9c179e\"],[0.4444444444444444,\"#bd3786\"],[0.5555555555555556,\"#d8576b\"],[0.6666666666666666,\"#ed7953\"],[0.7777777777777778,\"#fb9f3a\"],[0.8888888888888888,\"#fdca26\"],[1.0,\"#f0f921\"]],\"type\":\"surface\"}],\"table\":[{\"cells\":{\"fill\":{\"color\":\"#EBF0F8\"},\"line\":{\"color\":\"white\"}},\"header\":{\"fill\":{\"color\":\"#C8D4E3\"},\"line\":{\"color\":\"white\"}},\"type\":\"table\"}]},\"layout\":{\"annotationdefaults\":{\"arrowcolor\":\"#2a3f5f\",\"arrowhead\":0,\"arrowwidth\":1},\"autotypenumbers\":\"strict\",\"coloraxis\":{\"colorbar\":{\"outlinewidth\":0,\"ticks\":\"\"}},\"colorscale\":{\"diverging\":[[0,\"#8e0152\"],[0.1,\"#c51b7d\"],[0.2,\"#de77ae\"],[0.3,\"#f1b6da\"],[0.4,\"#fde0ef\"],[0.5,\"#f7f7f7\"],[0.6,\"#e6f5d0\"],[0.7,\"#b8e186\"],[0.8,\"#7fbc41\"],[0.9,\"#4d9221\"],[1,\"#276419\"]],\"sequential\":[[0.0,\"#0d0887\"],[0.1111111111111111,\"#46039f\"],[0.2222222222222222,\"#7201a8\"],[0.3333333333333333,\"#9c179e\"],[0.4444444444444444,\"#bd3786\"],[0.5555555555555556,\"#d8576b\"],[0.6666666666666666,\"#ed7953\"],[0.7777777777777778,\"#fb9f3a\"],[0.8888888888888888,\"#fdca26\"],[1.0,\"#f0f921\"]],\"sequentialminus\":[[0.0,\"#0d0887\"],[0.1111111111111111,\"#46039f\"],[0.2222222222222222,\"#7201a8\"],[0.3333333333333333,\"#9c179e\"],[0.4444444444444444,\"#bd3786\"],[0.5555555555555556,\"#d8576b\"],[0.6666666666666666,\"#ed7953\"],[0.7777777777777778,\"#fb9f3a\"],[0.8888888888888888,\"#fdca26\"],[1.0,\"#f0f921\"]]},\"colorway\":[\"#636efa\",\"#EF553B\",\"#00cc96\",\"#ab63fa\",\"#FFA15A\",\"#19d3f3\",\"#FF6692\",\"#B6E880\",\"#FF97FF\",\"#FECB52\"],\"font\":{\"color\":\"#2a3f5f\"},\"geo\":{\"bgcolor\":\"white\",\"lakecolor\":\"white\",\"landcolor\":\"#E5ECF6\",\"showlakes\":true,\"showland\":true,\"subunitcolor\":\"white\"},\"hoverlabel\":{\"align\":\"left\"},\"hovermode\":\"closest\",\"mapbox\":{\"style\":\"light\"},\"paper_bgcolor\":\"white\",\"plot_bgcolor\":\"#E5ECF6\",\"polar\":{\"angularaxis\":{\"gridcolor\":\"white\",\"linecolor\":\"white\",\"ticks\":\"\"},\"bgcolor\":\"#E5ECF6\",\"radialaxis\":{\"gridcolor\":\"white\",\"linecolor\":\"white\",\"ticks\":\"\"}},\"scene\":{\"xaxis\":{\"backgroundcolor\":\"#E5ECF6\",\"gridcolor\":\"white\",\"gridwidth\":2,\"linecolor\":\"white\",\"showbackground\":true,\"ticks\":\"\",\"zerolinecolor\":\"white\"},\"yaxis\":{\"backgroundcolor\":\"#E5ECF6\",\"gridcolor\":\"white\",\"gridwidth\":2,\"linecolor\":\"white\",\"showbackground\":true,\"ticks\":\"\",\"zerolinecolor\":\"white\"},\"zaxis\":{\"backgroundcolor\":\"#E5ECF6\",\"gridcolor\":\"white\",\"gridwidth\":2,\"linecolor\":\"white\",\"showbackground\":true,\"ticks\":\"\",\"zerolinecolor\":\"white\"}},\"shapedefaults\":{\"line\":{\"color\":\"#2a3f5f\"}},\"ternary\":{\"aaxis\":{\"gridcolor\":\"white\",\"linecolor\":\"white\",\"ticks\":\"\"},\"baxis\":{\"gridcolor\":\"white\",\"linecolor\":\"white\",\"ticks\":\"\"},\"bgcolor\":\"#E5ECF6\",\"caxis\":{\"gridcolor\":\"white\",\"linecolor\":\"white\",\"ticks\":\"\"}},\"title\":{\"x\":0.05},\"xaxis\":{\"automargin\":true,\"gridcolor\":\"white\",\"linecolor\":\"white\",\"ticks\":\"\",\"title\":{\"standoff\":15},\"zerolinecolor\":\"white\",\"zerolinewidth\":2},\"yaxis\":{\"automargin\":true,\"gridcolor\":\"white\",\"linecolor\":\"white\",\"ticks\":\"\",\"title\":{\"standoff\":15},\"zerolinecolor\":\"white\",\"zerolinewidth\":2}}},\"xaxis\":{\"anchor\":\"y\",\"domain\":[0,0.42],\"zeroline\":false,\"showline\":false,\"showticklabels\":true,\"showgrid\":true},\"yaxis\":{\"anchor\":\"x\",\"domain\":[0,0.85],\"showgrid\":false,\"showline\":false,\"showticklabels\":true},\"xaxis2\":{\"anchor\":\"y2\",\"domain\":[0.47,1],\"zeroline\":false,\"showline\":false,\"showticklabels\":true,\"showgrid\":true,\"side\":\"top\",\"dtick\":25000},\"yaxis2\":{\"anchor\":\"x2\",\"domain\":[0,0.85],\"showgrid\":false,\"showline\":true,\"showticklabels\":false,\"linecolor\":\"rgba(102, 102, 102, 0.8)\",\"linewidth\":2},\"legend\":{\"font\":{\"size\":10},\"x\":0.029,\"y\":1.038},\"margin\":{\"l\":100,\"r\":20,\"t\":70,\"b\":70},\"title\":{\"text\":\"AU concentrate dynamics per step of production\"},\"paper_bgcolor\":\"rgb(248, 248, 255)\",\"plot_bgcolor\":\"rgb(248, 248, 255)\",\"annotations\":[{\"font\":{\"color\":\"rgb(128, 0, 128)\",\"family\":\"Arial\",\"size\":12},\"showarrow\":false,\"text\":\"19.0%\",\"x\":19.0,\"xref\":\"x2\",\"y\":\"rougher.output.concentrate_au\",\"yref\":\"y2\"},{\"font\":{\"color\":\"rgb(50, 171, 96)\",\"family\":\"Arial\",\"size\":12},\"showarrow\":false,\"text\":\"275055.96\",\"x\":275055.96,\"xref\":\"x\",\"y\":\"rougher.output.concentrate_au\",\"yref\":\"y\"},{\"font\":{\"color\":\"rgb(128, 0, 128)\",\"family\":\"Arial\",\"size\":12},\"showarrow\":false,\"text\":\"32.0%\",\"x\":32.0,\"xref\":\"x2\",\"y\":\"primary_cleaner.output.concentrate_au\",\"yref\":\"y2\"},{\"font\":{\"color\":\"rgb(50, 171, 96)\",\"family\":\"Arial\",\"size\":12},\"showarrow\":false,\"text\":\"458241.34\",\"x\":458241.34,\"xref\":\"x\",\"y\":\"primary_cleaner.output.concentrate_au\",\"yref\":\"y\"},{\"font\":{\"color\":\"rgb(128, 0, 128)\",\"family\":\"Arial\",\"size\":12},\"showarrow\":false,\"text\":\"44.0%\",\"x\":44.0,\"xref\":\"x2\",\"y\":\"final.output.concentrate_au\",\"yref\":\"y2\"},{\"font\":{\"color\":\"rgb(50, 171, 96)\",\"family\":\"Arial\",\"size\":12},\"showarrow\":false,\"text\":\"622609.65\",\"x\":622609.65,\"xref\":\"x\",\"y\":\"final.output.concentrate_au\",\"yref\":\"y\"}]},                        {\"responsive\": true}                    ).then(function(){\n",
              "                            \n",
              "var gd = document.getElementById('5fb2d89b-5f35-4441-9e2e-400a21490a83');\n",
              "var x = new MutationObserver(function (mutations, observer) {{\n",
              "        var display = window.getComputedStyle(gd).display;\n",
              "        if (!display || display === 'none') {{\n",
              "            console.log([gd, 'removed!']);\n",
              "            Plotly.purge(gd);\n",
              "            observer.disconnect();\n",
              "        }}\n",
              "}});\n",
              "\n",
              "// Listen for the removal of the full notebook cells\n",
              "var notebookContainer = gd.closest('#notebook-container');\n",
              "if (notebookContainer) {{\n",
              "    x.observe(notebookContainer, {childList: true});\n",
              "}}\n",
              "\n",
              "// Listen for the clearing of the current output cell\n",
              "var outputEl = gd.closest('.output');\n",
              "if (outputEl) {{\n",
              "    x.observe(outputEl, {childList: true});\n",
              "}}\n",
              "\n",
              "                        })                };                            </script>        </div>\n",
              "</body>\n",
              "</html>"
            ]
          },
          "metadata": {}
        }
      ],
      "source": [
        "import plotly.graph_objects as go\n",
        "from plotly.subplots import make_subplots\n",
        "\n",
        "import numpy as np\n",
        "\n",
        "y_cum_sum = [concentrate_au_dynamics['rougher.output.concentrate_au'].sum(),\n",
        "             concentrate_au_dynamics['primary_cleaner.output.concentrate_au'].sum(),\n",
        "             concentrate_au_dynamics['final.output.concentrate_au'].sum()\n",
        "            ]\n",
        "y_mean = [concentrate_au_dynamics['rougher.output.concentrate_au'].mean(),\n",
        "             concentrate_au_dynamics['primary_cleaner.output.concentrate_au'].mean(),\n",
        "             concentrate_au_dynamics['final.output.concentrate_au'].mean()]\n",
        "\n",
        "x = concentrate_au_dynamics.columns\n",
        "\n",
        "\n",
        "#Creating two subplots\n",
        "fig = make_subplots(rows=1, cols=2, specs=[[{}, {}]], shared_xaxes=True,\n",
        "                    shared_yaxes=False, vertical_spacing=0.001)\n",
        "\n",
        "fig.append_trace(go.Bar(\n",
        "    x=y_cum_sum,\n",
        "    y=x,\n",
        "    marker=dict(\n",
        "        color='rgba(50, 171, 96, 0.6)',\n",
        "        line=dict(\n",
        "            color='rgba(50, 171, 96, 1.0)',\n",
        "            width=1),\n",
        "    ),\n",
        "    name='Cummulative sum of AU concentration per step, %',\n",
        "    orientation='h',\n",
        "), 1, 1)\n",
        "\n",
        "fig.append_trace(go.Scatter(\n",
        "    x=y_mean, y=x,\n",
        "    mode='lines+markers',\n",
        "    line_color='rgb(128, 0, 128)',\n",
        "    name='Mean AU concentrate per step, %',\n",
        "), 1, 2)\n",
        "\n",
        "fig.update_layout(\n",
        "    title='AU concentrate dynamics per step of production',\n",
        "    yaxis=dict(\n",
        "        showgrid=False,\n",
        "        showline=False,\n",
        "        showticklabels=True,\n",
        "        domain=[0, 0.85],\n",
        "    ),\n",
        "    yaxis2=dict(\n",
        "        showgrid=False,\n",
        "        showline=True,\n",
        "        showticklabels=False,\n",
        "        linecolor='rgba(102, 102, 102, 0.8)',\n",
        "        linewidth=2,\n",
        "        domain=[0, 0.85],\n",
        "    ),\n",
        "    xaxis=dict(\n",
        "        zeroline=False,\n",
        "        showline=False,\n",
        "        showticklabels=True,\n",
        "        showgrid=True,\n",
        "        domain=[0, 0.42],\n",
        "    ),\n",
        "    xaxis2=dict(\n",
        "        zeroline=False,\n",
        "        showline=False,\n",
        "        showticklabels=True,\n",
        "        showgrid=True,\n",
        "        domain=[0.47, 1],\n",
        "        side='top',\n",
        "        dtick=25000,\n",
        "    ),\n",
        "    legend=dict(x=0.029, y=1.038, font_size=10),\n",
        "    margin=dict(l=100, r=20, t=70, b=70),\n",
        "    paper_bgcolor='rgb(248, 248, 255)',\n",
        "    plot_bgcolor='rgb(248, 248, 255)',\n",
        ")\n",
        "\n",
        "annotations = []\n",
        "\n",
        "y_s = np.round(y_cum_sum, decimals=2)\n",
        "y_nw = np.rint(y_mean)\n",
        "\n",
        "#Adding labels\n",
        "for ydn, yd, xd in zip(y_nw, y_s, x):\n",
        "    #labeling the scatter mean concentrate\n",
        "    annotations.append(dict(xref='x2', yref='y2',\n",
        "                            y=xd, x=ydn,\n",
        "                            text='{:,}'.format(ydn) + '%',\n",
        "                            font=dict(family='Arial', size=12,\n",
        "                                      color='rgb(128, 0, 128)'),\n",
        "                            showarrow=False))\n",
        "    #labeling the bar accumulated sum\n",
        "    annotations.append(dict(xref='x1', yref='y1',\n",
        "                            y=xd, x=yd,\n",
        "                            text=str(yd),\n",
        "                            font=dict(family='Arial', size=12,\n",
        "                                      color='rgb(50, 171, 96)'),\n",
        "                            showarrow=False))\n",
        "\n",
        "fig.update_layout(annotations=annotations)\n",
        "\n",
        "fig.show()"
      ]
    },
    {
      "cell_type": "markdown",
      "metadata": {
        "id": "EODSZSc37Bb5"
      },
      "source": [
        "The dashboard shows that as the raw material is refined, the concentration of gold increases."
      ]
    },
    {
      "cell_type": "code",
      "execution_count": null,
      "metadata": {
        "colab": {
          "base_uri": "https://localhost:8080/",
          "height": 542
        },
        "id": "eOzWubbd7Bb5",
        "outputId": "fa6e802c-4f78-4c1d-f3ab-a7422338366a"
      },
      "outputs": [
        {
          "output_type": "display_data",
          "data": {
            "text/html": [
              "<html>\n",
              "<head><meta charset=\"utf-8\" /></head>\n",
              "<body>\n",
              "    <div>            <script src=\"https://cdnjs.cloudflare.com/ajax/libs/mathjax/2.7.5/MathJax.js?config=TeX-AMS-MML_SVG\"></script><script type=\"text/javascript\">if (window.MathJax) {MathJax.Hub.Config({SVG: {font: \"STIX-Web\"}});}</script>                <script type=\"text/javascript\">window.PlotlyConfig = {MathJaxConfig: 'local'};</script>\n",
              "        <script src=\"https://cdn.plot.ly/plotly-2.8.3.min.js\"></script>                <div id=\"41565a59-a24f-4e68-a9ed-d4ba9c4c1223\" class=\"plotly-graph-div\" style=\"height:525px; width:100%;\"></div>            <script type=\"text/javascript\">                                    window.PLOTLYENV=window.PLOTLYENV || {};                                    if (document.getElementById(\"41565a59-a24f-4e68-a9ed-d4ba9c4c1223\")) {                    Plotly.newPlot(                        \"41565a59-a24f-4e68-a9ed-d4ba9c4c1223\",                        [{\"marker\":{\"color\":\"rgba(50, 171, 96, 0.6)\",\"line\":{\"color\":\"rgba(50, 171, 96, 1.0)\",\"width\":1}},\"name\":\"Cummulative sum of AG concentration per step, %\",\"orientation\":\"h\",\"x\":[166615.96843582357,116034.75786878346,72753.03916580298],\"y\":[\"rougher.output.concentrate_ag\",\"primary_cleaner.output.concentrate_ag\",\"final.output.concentrate_ag\"],\"type\":\"bar\",\"xaxis\":\"x\",\"yaxis\":\"y\"},{\"line\":{\"color\":\"rgb(128, 0, 128)\"},\"mode\":\"lines+markers\",\"name\":\"Mean AG concentrate per step, %\",\"x\":[11.775812314356036,8.200915815165981,5.141920924857091],\"y\":[\"rougher.output.concentrate_ag\",\"primary_cleaner.output.concentrate_ag\",\"final.output.concentrate_ag\"],\"type\":\"scatter\",\"xaxis\":\"x2\",\"yaxis\":\"y2\"}],                        {\"template\":{\"data\":{\"bar\":[{\"error_x\":{\"color\":\"#2a3f5f\"},\"error_y\":{\"color\":\"#2a3f5f\"},\"marker\":{\"line\":{\"color\":\"#E5ECF6\",\"width\":0.5},\"pattern\":{\"fillmode\":\"overlay\",\"size\":10,\"solidity\":0.2}},\"type\":\"bar\"}],\"barpolar\":[{\"marker\":{\"line\":{\"color\":\"#E5ECF6\",\"width\":0.5},\"pattern\":{\"fillmode\":\"overlay\",\"size\":10,\"solidity\":0.2}},\"type\":\"barpolar\"}],\"carpet\":[{\"aaxis\":{\"endlinecolor\":\"#2a3f5f\",\"gridcolor\":\"white\",\"linecolor\":\"white\",\"minorgridcolor\":\"white\",\"startlinecolor\":\"#2a3f5f\"},\"baxis\":{\"endlinecolor\":\"#2a3f5f\",\"gridcolor\":\"white\",\"linecolor\":\"white\",\"minorgridcolor\":\"white\",\"startlinecolor\":\"#2a3f5f\"},\"type\":\"carpet\"}],\"choropleth\":[{\"colorbar\":{\"outlinewidth\":0,\"ticks\":\"\"},\"type\":\"choropleth\"}],\"contour\":[{\"colorbar\":{\"outlinewidth\":0,\"ticks\":\"\"},\"colorscale\":[[0.0,\"#0d0887\"],[0.1111111111111111,\"#46039f\"],[0.2222222222222222,\"#7201a8\"],[0.3333333333333333,\"#9c179e\"],[0.4444444444444444,\"#bd3786\"],[0.5555555555555556,\"#d8576b\"],[0.6666666666666666,\"#ed7953\"],[0.7777777777777778,\"#fb9f3a\"],[0.8888888888888888,\"#fdca26\"],[1.0,\"#f0f921\"]],\"type\":\"contour\"}],\"contourcarpet\":[{\"colorbar\":{\"outlinewidth\":0,\"ticks\":\"\"},\"type\":\"contourcarpet\"}],\"heatmap\":[{\"colorbar\":{\"outlinewidth\":0,\"ticks\":\"\"},\"colorscale\":[[0.0,\"#0d0887\"],[0.1111111111111111,\"#46039f\"],[0.2222222222222222,\"#7201a8\"],[0.3333333333333333,\"#9c179e\"],[0.4444444444444444,\"#bd3786\"],[0.5555555555555556,\"#d8576b\"],[0.6666666666666666,\"#ed7953\"],[0.7777777777777778,\"#fb9f3a\"],[0.8888888888888888,\"#fdca26\"],[1.0,\"#f0f921\"]],\"type\":\"heatmap\"}],\"heatmapgl\":[{\"colorbar\":{\"outlinewidth\":0,\"ticks\":\"\"},\"colorscale\":[[0.0,\"#0d0887\"],[0.1111111111111111,\"#46039f\"],[0.2222222222222222,\"#7201a8\"],[0.3333333333333333,\"#9c179e\"],[0.4444444444444444,\"#bd3786\"],[0.5555555555555556,\"#d8576b\"],[0.6666666666666666,\"#ed7953\"],[0.7777777777777778,\"#fb9f3a\"],[0.8888888888888888,\"#fdca26\"],[1.0,\"#f0f921\"]],\"type\":\"heatmapgl\"}],\"histogram\":[{\"marker\":{\"pattern\":{\"fillmode\":\"overlay\",\"size\":10,\"solidity\":0.2}},\"type\":\"histogram\"}],\"histogram2d\":[{\"colorbar\":{\"outlinewidth\":0,\"ticks\":\"\"},\"colorscale\":[[0.0,\"#0d0887\"],[0.1111111111111111,\"#46039f\"],[0.2222222222222222,\"#7201a8\"],[0.3333333333333333,\"#9c179e\"],[0.4444444444444444,\"#bd3786\"],[0.5555555555555556,\"#d8576b\"],[0.6666666666666666,\"#ed7953\"],[0.7777777777777778,\"#fb9f3a\"],[0.8888888888888888,\"#fdca26\"],[1.0,\"#f0f921\"]],\"type\":\"histogram2d\"}],\"histogram2dcontour\":[{\"colorbar\":{\"outlinewidth\":0,\"ticks\":\"\"},\"colorscale\":[[0.0,\"#0d0887\"],[0.1111111111111111,\"#46039f\"],[0.2222222222222222,\"#7201a8\"],[0.3333333333333333,\"#9c179e\"],[0.4444444444444444,\"#bd3786\"],[0.5555555555555556,\"#d8576b\"],[0.6666666666666666,\"#ed7953\"],[0.7777777777777778,\"#fb9f3a\"],[0.8888888888888888,\"#fdca26\"],[1.0,\"#f0f921\"]],\"type\":\"histogram2dcontour\"}],\"mesh3d\":[{\"colorbar\":{\"outlinewidth\":0,\"ticks\":\"\"},\"type\":\"mesh3d\"}],\"parcoords\":[{\"line\":{\"colorbar\":{\"outlinewidth\":0,\"ticks\":\"\"}},\"type\":\"parcoords\"}],\"pie\":[{\"automargin\":true,\"type\":\"pie\"}],\"scatter\":[{\"marker\":{\"colorbar\":{\"outlinewidth\":0,\"ticks\":\"\"}},\"type\":\"scatter\"}],\"scatter3d\":[{\"line\":{\"colorbar\":{\"outlinewidth\":0,\"ticks\":\"\"}},\"marker\":{\"colorbar\":{\"outlinewidth\":0,\"ticks\":\"\"}},\"type\":\"scatter3d\"}],\"scattercarpet\":[{\"marker\":{\"colorbar\":{\"outlinewidth\":0,\"ticks\":\"\"}},\"type\":\"scattercarpet\"}],\"scattergeo\":[{\"marker\":{\"colorbar\":{\"outlinewidth\":0,\"ticks\":\"\"}},\"type\":\"scattergeo\"}],\"scattergl\":[{\"marker\":{\"colorbar\":{\"outlinewidth\":0,\"ticks\":\"\"}},\"type\":\"scattergl\"}],\"scattermapbox\":[{\"marker\":{\"colorbar\":{\"outlinewidth\":0,\"ticks\":\"\"}},\"type\":\"scattermapbox\"}],\"scatterpolar\":[{\"marker\":{\"colorbar\":{\"outlinewidth\":0,\"ticks\":\"\"}},\"type\":\"scatterpolar\"}],\"scatterpolargl\":[{\"marker\":{\"colorbar\":{\"outlinewidth\":0,\"ticks\":\"\"}},\"type\":\"scatterpolargl\"}],\"scatterternary\":[{\"marker\":{\"colorbar\":{\"outlinewidth\":0,\"ticks\":\"\"}},\"type\":\"scatterternary\"}],\"surface\":[{\"colorbar\":{\"outlinewidth\":0,\"ticks\":\"\"},\"colorscale\":[[0.0,\"#0d0887\"],[0.1111111111111111,\"#46039f\"],[0.2222222222222222,\"#7201a8\"],[0.3333333333333333,\"#9c179e\"],[0.4444444444444444,\"#bd3786\"],[0.5555555555555556,\"#d8576b\"],[0.6666666666666666,\"#ed7953\"],[0.7777777777777778,\"#fb9f3a\"],[0.8888888888888888,\"#fdca26\"],[1.0,\"#f0f921\"]],\"type\":\"surface\"}],\"table\":[{\"cells\":{\"fill\":{\"color\":\"#EBF0F8\"},\"line\":{\"color\":\"white\"}},\"header\":{\"fill\":{\"color\":\"#C8D4E3\"},\"line\":{\"color\":\"white\"}},\"type\":\"table\"}]},\"layout\":{\"annotationdefaults\":{\"arrowcolor\":\"#2a3f5f\",\"arrowhead\":0,\"arrowwidth\":1},\"autotypenumbers\":\"strict\",\"coloraxis\":{\"colorbar\":{\"outlinewidth\":0,\"ticks\":\"\"}},\"colorscale\":{\"diverging\":[[0,\"#8e0152\"],[0.1,\"#c51b7d\"],[0.2,\"#de77ae\"],[0.3,\"#f1b6da\"],[0.4,\"#fde0ef\"],[0.5,\"#f7f7f7\"],[0.6,\"#e6f5d0\"],[0.7,\"#b8e186\"],[0.8,\"#7fbc41\"],[0.9,\"#4d9221\"],[1,\"#276419\"]],\"sequential\":[[0.0,\"#0d0887\"],[0.1111111111111111,\"#46039f\"],[0.2222222222222222,\"#7201a8\"],[0.3333333333333333,\"#9c179e\"],[0.4444444444444444,\"#bd3786\"],[0.5555555555555556,\"#d8576b\"],[0.6666666666666666,\"#ed7953\"],[0.7777777777777778,\"#fb9f3a\"],[0.8888888888888888,\"#fdca26\"],[1.0,\"#f0f921\"]],\"sequentialminus\":[[0.0,\"#0d0887\"],[0.1111111111111111,\"#46039f\"],[0.2222222222222222,\"#7201a8\"],[0.3333333333333333,\"#9c179e\"],[0.4444444444444444,\"#bd3786\"],[0.5555555555555556,\"#d8576b\"],[0.6666666666666666,\"#ed7953\"],[0.7777777777777778,\"#fb9f3a\"],[0.8888888888888888,\"#fdca26\"],[1.0,\"#f0f921\"]]},\"colorway\":[\"#636efa\",\"#EF553B\",\"#00cc96\",\"#ab63fa\",\"#FFA15A\",\"#19d3f3\",\"#FF6692\",\"#B6E880\",\"#FF97FF\",\"#FECB52\"],\"font\":{\"color\":\"#2a3f5f\"},\"geo\":{\"bgcolor\":\"white\",\"lakecolor\":\"white\",\"landcolor\":\"#E5ECF6\",\"showlakes\":true,\"showland\":true,\"subunitcolor\":\"white\"},\"hoverlabel\":{\"align\":\"left\"},\"hovermode\":\"closest\",\"mapbox\":{\"style\":\"light\"},\"paper_bgcolor\":\"white\",\"plot_bgcolor\":\"#E5ECF6\",\"polar\":{\"angularaxis\":{\"gridcolor\":\"white\",\"linecolor\":\"white\",\"ticks\":\"\"},\"bgcolor\":\"#E5ECF6\",\"radialaxis\":{\"gridcolor\":\"white\",\"linecolor\":\"white\",\"ticks\":\"\"}},\"scene\":{\"xaxis\":{\"backgroundcolor\":\"#E5ECF6\",\"gridcolor\":\"white\",\"gridwidth\":2,\"linecolor\":\"white\",\"showbackground\":true,\"ticks\":\"\",\"zerolinecolor\":\"white\"},\"yaxis\":{\"backgroundcolor\":\"#E5ECF6\",\"gridcolor\":\"white\",\"gridwidth\":2,\"linecolor\":\"white\",\"showbackground\":true,\"ticks\":\"\",\"zerolinecolor\":\"white\"},\"zaxis\":{\"backgroundcolor\":\"#E5ECF6\",\"gridcolor\":\"white\",\"gridwidth\":2,\"linecolor\":\"white\",\"showbackground\":true,\"ticks\":\"\",\"zerolinecolor\":\"white\"}},\"shapedefaults\":{\"line\":{\"color\":\"#2a3f5f\"}},\"ternary\":{\"aaxis\":{\"gridcolor\":\"white\",\"linecolor\":\"white\",\"ticks\":\"\"},\"baxis\":{\"gridcolor\":\"white\",\"linecolor\":\"white\",\"ticks\":\"\"},\"bgcolor\":\"#E5ECF6\",\"caxis\":{\"gridcolor\":\"white\",\"linecolor\":\"white\",\"ticks\":\"\"}},\"title\":{\"x\":0.05},\"xaxis\":{\"automargin\":true,\"gridcolor\":\"white\",\"linecolor\":\"white\",\"ticks\":\"\",\"title\":{\"standoff\":15},\"zerolinecolor\":\"white\",\"zerolinewidth\":2},\"yaxis\":{\"automargin\":true,\"gridcolor\":\"white\",\"linecolor\":\"white\",\"ticks\":\"\",\"title\":{\"standoff\":15},\"zerolinecolor\":\"white\",\"zerolinewidth\":2}}},\"xaxis\":{\"anchor\":\"y\",\"domain\":[0,0.42],\"zeroline\":false,\"showline\":false,\"showticklabels\":true,\"showgrid\":true},\"yaxis\":{\"anchor\":\"x\",\"domain\":[0,0.85],\"showgrid\":false,\"showline\":false,\"showticklabels\":true},\"xaxis2\":{\"anchor\":\"y2\",\"domain\":[0.47,1],\"zeroline\":false,\"showline\":false,\"showticklabels\":true,\"showgrid\":true,\"side\":\"top\",\"dtick\":25000},\"yaxis2\":{\"anchor\":\"x2\",\"domain\":[0,0.85],\"showgrid\":false,\"showline\":true,\"showticklabels\":false,\"linecolor\":\"rgba(102, 102, 102, 0.8)\",\"linewidth\":2},\"legend\":{\"font\":{\"size\":10},\"x\":0.029,\"y\":1.038},\"margin\":{\"l\":100,\"r\":20,\"t\":70,\"b\":70},\"title\":{\"text\":\"AG concentrate dynamics per step of production\"},\"paper_bgcolor\":\"rgb(248, 248, 255)\",\"plot_bgcolor\":\"rgb(248, 248, 255)\",\"annotations\":[{\"font\":{\"color\":\"rgb(128, 0, 128)\",\"family\":\"Arial\",\"size\":12},\"showarrow\":false,\"text\":\"12.0%\",\"x\":12.0,\"xref\":\"x2\",\"y\":\"rougher.output.concentrate_ag\",\"yref\":\"y2\"},{\"font\":{\"color\":\"rgb(50, 171, 96)\",\"family\":\"Arial\",\"size\":12},\"showarrow\":false,\"text\":\"166615.97\",\"x\":166615.97,\"xref\":\"x\",\"y\":\"rougher.output.concentrate_ag\",\"yref\":\"y\"},{\"font\":{\"color\":\"rgb(128, 0, 128)\",\"family\":\"Arial\",\"size\":12},\"showarrow\":false,\"text\":\"8.0%\",\"x\":8.0,\"xref\":\"x2\",\"y\":\"primary_cleaner.output.concentrate_ag\",\"yref\":\"y2\"},{\"font\":{\"color\":\"rgb(50, 171, 96)\",\"family\":\"Arial\",\"size\":12},\"showarrow\":false,\"text\":\"116034.76\",\"x\":116034.76,\"xref\":\"x\",\"y\":\"primary_cleaner.output.concentrate_ag\",\"yref\":\"y\"},{\"font\":{\"color\":\"rgb(128, 0, 128)\",\"family\":\"Arial\",\"size\":12},\"showarrow\":false,\"text\":\"5.0%\",\"x\":5.0,\"xref\":\"x2\",\"y\":\"final.output.concentrate_ag\",\"yref\":\"y2\"},{\"font\":{\"color\":\"rgb(50, 171, 96)\",\"family\":\"Arial\",\"size\":12},\"showarrow\":false,\"text\":\"72753.04\",\"x\":72753.04,\"xref\":\"x\",\"y\":\"final.output.concentrate_ag\",\"yref\":\"y\"}]},                        {\"responsive\": true}                    ).then(function(){\n",
              "                            \n",
              "var gd = document.getElementById('41565a59-a24f-4e68-a9ed-d4ba9c4c1223');\n",
              "var x = new MutationObserver(function (mutations, observer) {{\n",
              "        var display = window.getComputedStyle(gd).display;\n",
              "        if (!display || display === 'none') {{\n",
              "            console.log([gd, 'removed!']);\n",
              "            Plotly.purge(gd);\n",
              "            observer.disconnect();\n",
              "        }}\n",
              "}});\n",
              "\n",
              "// Listen for the removal of the full notebook cells\n",
              "var notebookContainer = gd.closest('#notebook-container');\n",
              "if (notebookContainer) {{\n",
              "    x.observe(notebookContainer, {childList: true});\n",
              "}}\n",
              "\n",
              "// Listen for the clearing of the current output cell\n",
              "var outputEl = gd.closest('.output');\n",
              "if (outputEl) {{\n",
              "    x.observe(outputEl, {childList: true});\n",
              "}}\n",
              "\n",
              "                        })                };                            </script>        </div>\n",
              "</body>\n",
              "</html>"
            ]
          },
          "metadata": {}
        }
      ],
      "source": [
        "import plotly.graph_objects as go\n",
        "from plotly.subplots import make_subplots\n",
        "\n",
        "import numpy as np\n",
        "\n",
        "y_cum_sum = [concentrate_ag_dynamics['rougher.output.concentrate_ag'].sum(),\n",
        "             concentrate_ag_dynamics['primary_cleaner.output.concentrate_ag'].sum(),\n",
        "             concentrate_ag_dynamics['final.output.concentrate_ag'].sum()\n",
        "            ]\n",
        "y_mean = [concentrate_ag_dynamics['rougher.output.concentrate_ag'].mean(),\n",
        "             concentrate_ag_dynamics['primary_cleaner.output.concentrate_ag'].mean(),\n",
        "             concentrate_ag_dynamics['final.output.concentrate_ag'].mean()]\n",
        "\n",
        "x = concentrate_ag_dynamics.columns\n",
        "\n",
        "\n",
        "#Creating two subplots\n",
        "fig = make_subplots(rows=1, cols=2, specs=[[{}, {}]], shared_xaxes=True,\n",
        "                    shared_yaxes=False, vertical_spacing=0.001)\n",
        "\n",
        "fig.append_trace(go.Bar(\n",
        "    x=y_cum_sum,\n",
        "    y=x,\n",
        "    marker=dict(\n",
        "        color='rgba(50, 171, 96, 0.6)',\n",
        "        line=dict(\n",
        "            color='rgba(50, 171, 96, 1.0)',\n",
        "            width=1),\n",
        "    ),\n",
        "    name='Cummulative sum of AG concentration per step, %',\n",
        "    orientation='h',\n",
        "), 1, 1)\n",
        "\n",
        "fig.append_trace(go.Scatter(\n",
        "    x=y_mean, y=x,\n",
        "    mode='lines+markers',\n",
        "    line_color='rgb(128, 0, 128)',\n",
        "    name='Mean AG concentrate per step, %',\n",
        "), 1, 2)\n",
        "\n",
        "fig.update_layout(\n",
        "    title='AG concentrate dynamics per step of production',\n",
        "    yaxis=dict(\n",
        "        showgrid=False,\n",
        "        showline=False,\n",
        "        showticklabels=True,\n",
        "        domain=[0, 0.85],\n",
        "    ),\n",
        "    yaxis2=dict(\n",
        "        showgrid=False,\n",
        "        showline=True,\n",
        "        showticklabels=False,\n",
        "        linecolor='rgba(102, 102, 102, 0.8)',\n",
        "        linewidth=2,\n",
        "        domain=[0, 0.85],\n",
        "    ),\n",
        "    xaxis=dict(\n",
        "        zeroline=False,\n",
        "        showline=False,\n",
        "        showticklabels=True,\n",
        "        showgrid=True,\n",
        "        domain=[0, 0.42],\n",
        "    ),\n",
        "    xaxis2=dict(\n",
        "        zeroline=False,\n",
        "        showline=False,\n",
        "        showticklabels=True,\n",
        "        showgrid=True,\n",
        "        domain=[0.47, 1],\n",
        "        side='top',\n",
        "        dtick=25000,\n",
        "    ),\n",
        "    legend=dict(x=0.029, y=1.038, font_size=10),\n",
        "    margin=dict(l=100, r=20, t=70, b=70),\n",
        "    paper_bgcolor='rgb(248, 248, 255)',\n",
        "    plot_bgcolor='rgb(248, 248, 255)',\n",
        ")\n",
        "\n",
        "annotations = []\n",
        "\n",
        "y_s = np.round(y_cum_sum, decimals=2)\n",
        "y_nw = np.rint(y_mean)\n",
        "\n",
        "#Adding labels\n",
        "for ydn, yd, xd in zip(y_nw, y_s, x):\n",
        "    #labeling the scatter mean concentrate\n",
        "    annotations.append(dict(xref='x2', yref='y2',\n",
        "                            y=xd, x=ydn,\n",
        "                            text='{:,}'.format(ydn) + '%',\n",
        "                            font=dict(family='Arial', size=12,\n",
        "                                      color='rgb(128, 0, 128)'),\n",
        "                            showarrow=False))\n",
        "    #labeling the bar accumulated sum\n",
        "    annotations.append(dict(xref='x1', yref='y1',\n",
        "                            y=xd, x=yd,\n",
        "                            text=str(yd),\n",
        "                            font=dict(family='Arial', size=12,\n",
        "                                      color='rgb(50, 171, 96)'),\n",
        "                            showarrow=False))\n",
        "\n",
        "fig.update_layout(annotations=annotations)\n",
        "\n",
        "fig.show()"
      ]
    },
    {
      "cell_type": "markdown",
      "metadata": {
        "id": "6vz9sBtZ7Bb5"
      },
      "source": [
        "The concentration of silver decreases as the raw material is purified from impurities."
      ]
    },
    {
      "cell_type": "code",
      "execution_count": null,
      "metadata": {
        "colab": {
          "base_uri": "https://localhost:8080/",
          "height": 542
        },
        "id": "YdniDlqi7Bb6",
        "outputId": "26b46604-f763-49a9-b2ab-e52fc6edadc0"
      },
      "outputs": [
        {
          "output_type": "display_data",
          "data": {
            "text/html": [
              "<html>\n",
              "<head><meta charset=\"utf-8\" /></head>\n",
              "<body>\n",
              "    <div>            <script src=\"https://cdnjs.cloudflare.com/ajax/libs/mathjax/2.7.5/MathJax.js?config=TeX-AMS-MML_SVG\"></script><script type=\"text/javascript\">if (window.MathJax) {MathJax.Hub.Config({SVG: {font: \"STIX-Web\"}});}</script>                <script type=\"text/javascript\">window.PlotlyConfig = {MathJaxConfig: 'local'};</script>\n",
              "        <script src=\"https://cdn.plot.ly/plotly-2.8.3.min.js\"></script>                <div id=\"7af2539e-9020-4672-95f8-fbb8ac576467\" class=\"plotly-graph-div\" style=\"height:525px; width:100%;\"></div>            <script type=\"text/javascript\">                                    window.PLOTLYENV=window.PLOTLYENV || {};                                    if (document.getElementById(\"7af2539e-9020-4672-95f8-fbb8ac576467\")) {                    Plotly.newPlot(                        \"7af2539e-9020-4672-95f8-fbb8ac576467\",                        [{\"marker\":{\"color\":\"rgba(50, 171, 96, 0.6)\",\"line\":{\"color\":\"rgba(50, 171, 96, 1.0)\",\"width\":1}},\"name\":\"Cummulative sum of PB concentration per step, %\",\"orientation\":\"h\",\"x\":[108445.7851787124,135385.32915179557,143369.66293001332],\"y\":[\"rougher.output.concentrate_pb\",\"primary_cleaner.output.concentrate_pb\",\"final.output.concentrate_pb\"],\"type\":\"bar\",\"xaxis\":\"x\",\"yaxis\":\"y\"},{\"line\":{\"color\":\"rgb(128, 0, 128)\"},\"mode\":\"lines+markers\",\"name\":\"Mean PB concentrate per step, %\",\"x\":[7.664554751481546,9.568544006770484,10.132847758146394],\"y\":[\"rougher.output.concentrate_pb\",\"primary_cleaner.output.concentrate_pb\",\"final.output.concentrate_pb\"],\"type\":\"scatter\",\"xaxis\":\"x2\",\"yaxis\":\"y2\"}],                        {\"template\":{\"data\":{\"bar\":[{\"error_x\":{\"color\":\"#2a3f5f\"},\"error_y\":{\"color\":\"#2a3f5f\"},\"marker\":{\"line\":{\"color\":\"#E5ECF6\",\"width\":0.5},\"pattern\":{\"fillmode\":\"overlay\",\"size\":10,\"solidity\":0.2}},\"type\":\"bar\"}],\"barpolar\":[{\"marker\":{\"line\":{\"color\":\"#E5ECF6\",\"width\":0.5},\"pattern\":{\"fillmode\":\"overlay\",\"size\":10,\"solidity\":0.2}},\"type\":\"barpolar\"}],\"carpet\":[{\"aaxis\":{\"endlinecolor\":\"#2a3f5f\",\"gridcolor\":\"white\",\"linecolor\":\"white\",\"minorgridcolor\":\"white\",\"startlinecolor\":\"#2a3f5f\"},\"baxis\":{\"endlinecolor\":\"#2a3f5f\",\"gridcolor\":\"white\",\"linecolor\":\"white\",\"minorgridcolor\":\"white\",\"startlinecolor\":\"#2a3f5f\"},\"type\":\"carpet\"}],\"choropleth\":[{\"colorbar\":{\"outlinewidth\":0,\"ticks\":\"\"},\"type\":\"choropleth\"}],\"contour\":[{\"colorbar\":{\"outlinewidth\":0,\"ticks\":\"\"},\"colorscale\":[[0.0,\"#0d0887\"],[0.1111111111111111,\"#46039f\"],[0.2222222222222222,\"#7201a8\"],[0.3333333333333333,\"#9c179e\"],[0.4444444444444444,\"#bd3786\"],[0.5555555555555556,\"#d8576b\"],[0.6666666666666666,\"#ed7953\"],[0.7777777777777778,\"#fb9f3a\"],[0.8888888888888888,\"#fdca26\"],[1.0,\"#f0f921\"]],\"type\":\"contour\"}],\"contourcarpet\":[{\"colorbar\":{\"outlinewidth\":0,\"ticks\":\"\"},\"type\":\"contourcarpet\"}],\"heatmap\":[{\"colorbar\":{\"outlinewidth\":0,\"ticks\":\"\"},\"colorscale\":[[0.0,\"#0d0887\"],[0.1111111111111111,\"#46039f\"],[0.2222222222222222,\"#7201a8\"],[0.3333333333333333,\"#9c179e\"],[0.4444444444444444,\"#bd3786\"],[0.5555555555555556,\"#d8576b\"],[0.6666666666666666,\"#ed7953\"],[0.7777777777777778,\"#fb9f3a\"],[0.8888888888888888,\"#fdca26\"],[1.0,\"#f0f921\"]],\"type\":\"heatmap\"}],\"heatmapgl\":[{\"colorbar\":{\"outlinewidth\":0,\"ticks\":\"\"},\"colorscale\":[[0.0,\"#0d0887\"],[0.1111111111111111,\"#46039f\"],[0.2222222222222222,\"#7201a8\"],[0.3333333333333333,\"#9c179e\"],[0.4444444444444444,\"#bd3786\"],[0.5555555555555556,\"#d8576b\"],[0.6666666666666666,\"#ed7953\"],[0.7777777777777778,\"#fb9f3a\"],[0.8888888888888888,\"#fdca26\"],[1.0,\"#f0f921\"]],\"type\":\"heatmapgl\"}],\"histogram\":[{\"marker\":{\"pattern\":{\"fillmode\":\"overlay\",\"size\":10,\"solidity\":0.2}},\"type\":\"histogram\"}],\"histogram2d\":[{\"colorbar\":{\"outlinewidth\":0,\"ticks\":\"\"},\"colorscale\":[[0.0,\"#0d0887\"],[0.1111111111111111,\"#46039f\"],[0.2222222222222222,\"#7201a8\"],[0.3333333333333333,\"#9c179e\"],[0.4444444444444444,\"#bd3786\"],[0.5555555555555556,\"#d8576b\"],[0.6666666666666666,\"#ed7953\"],[0.7777777777777778,\"#fb9f3a\"],[0.8888888888888888,\"#fdca26\"],[1.0,\"#f0f921\"]],\"type\":\"histogram2d\"}],\"histogram2dcontour\":[{\"colorbar\":{\"outlinewidth\":0,\"ticks\":\"\"},\"colorscale\":[[0.0,\"#0d0887\"],[0.1111111111111111,\"#46039f\"],[0.2222222222222222,\"#7201a8\"],[0.3333333333333333,\"#9c179e\"],[0.4444444444444444,\"#bd3786\"],[0.5555555555555556,\"#d8576b\"],[0.6666666666666666,\"#ed7953\"],[0.7777777777777778,\"#fb9f3a\"],[0.8888888888888888,\"#fdca26\"],[1.0,\"#f0f921\"]],\"type\":\"histogram2dcontour\"}],\"mesh3d\":[{\"colorbar\":{\"outlinewidth\":0,\"ticks\":\"\"},\"type\":\"mesh3d\"}],\"parcoords\":[{\"line\":{\"colorbar\":{\"outlinewidth\":0,\"ticks\":\"\"}},\"type\":\"parcoords\"}],\"pie\":[{\"automargin\":true,\"type\":\"pie\"}],\"scatter\":[{\"marker\":{\"colorbar\":{\"outlinewidth\":0,\"ticks\":\"\"}},\"type\":\"scatter\"}],\"scatter3d\":[{\"line\":{\"colorbar\":{\"outlinewidth\":0,\"ticks\":\"\"}},\"marker\":{\"colorbar\":{\"outlinewidth\":0,\"ticks\":\"\"}},\"type\":\"scatter3d\"}],\"scattercarpet\":[{\"marker\":{\"colorbar\":{\"outlinewidth\":0,\"ticks\":\"\"}},\"type\":\"scattercarpet\"}],\"scattergeo\":[{\"marker\":{\"colorbar\":{\"outlinewidth\":0,\"ticks\":\"\"}},\"type\":\"scattergeo\"}],\"scattergl\":[{\"marker\":{\"colorbar\":{\"outlinewidth\":0,\"ticks\":\"\"}},\"type\":\"scattergl\"}],\"scattermapbox\":[{\"marker\":{\"colorbar\":{\"outlinewidth\":0,\"ticks\":\"\"}},\"type\":\"scattermapbox\"}],\"scatterpolar\":[{\"marker\":{\"colorbar\":{\"outlinewidth\":0,\"ticks\":\"\"}},\"type\":\"scatterpolar\"}],\"scatterpolargl\":[{\"marker\":{\"colorbar\":{\"outlinewidth\":0,\"ticks\":\"\"}},\"type\":\"scatterpolargl\"}],\"scatterternary\":[{\"marker\":{\"colorbar\":{\"outlinewidth\":0,\"ticks\":\"\"}},\"type\":\"scatterternary\"}],\"surface\":[{\"colorbar\":{\"outlinewidth\":0,\"ticks\":\"\"},\"colorscale\":[[0.0,\"#0d0887\"],[0.1111111111111111,\"#46039f\"],[0.2222222222222222,\"#7201a8\"],[0.3333333333333333,\"#9c179e\"],[0.4444444444444444,\"#bd3786\"],[0.5555555555555556,\"#d8576b\"],[0.6666666666666666,\"#ed7953\"],[0.7777777777777778,\"#fb9f3a\"],[0.8888888888888888,\"#fdca26\"],[1.0,\"#f0f921\"]],\"type\":\"surface\"}],\"table\":[{\"cells\":{\"fill\":{\"color\":\"#EBF0F8\"},\"line\":{\"color\":\"white\"}},\"header\":{\"fill\":{\"color\":\"#C8D4E3\"},\"line\":{\"color\":\"white\"}},\"type\":\"table\"}]},\"layout\":{\"annotationdefaults\":{\"arrowcolor\":\"#2a3f5f\",\"arrowhead\":0,\"arrowwidth\":1},\"autotypenumbers\":\"strict\",\"coloraxis\":{\"colorbar\":{\"outlinewidth\":0,\"ticks\":\"\"}},\"colorscale\":{\"diverging\":[[0,\"#8e0152\"],[0.1,\"#c51b7d\"],[0.2,\"#de77ae\"],[0.3,\"#f1b6da\"],[0.4,\"#fde0ef\"],[0.5,\"#f7f7f7\"],[0.6,\"#e6f5d0\"],[0.7,\"#b8e186\"],[0.8,\"#7fbc41\"],[0.9,\"#4d9221\"],[1,\"#276419\"]],\"sequential\":[[0.0,\"#0d0887\"],[0.1111111111111111,\"#46039f\"],[0.2222222222222222,\"#7201a8\"],[0.3333333333333333,\"#9c179e\"],[0.4444444444444444,\"#bd3786\"],[0.5555555555555556,\"#d8576b\"],[0.6666666666666666,\"#ed7953\"],[0.7777777777777778,\"#fb9f3a\"],[0.8888888888888888,\"#fdca26\"],[1.0,\"#f0f921\"]],\"sequentialminus\":[[0.0,\"#0d0887\"],[0.1111111111111111,\"#46039f\"],[0.2222222222222222,\"#7201a8\"],[0.3333333333333333,\"#9c179e\"],[0.4444444444444444,\"#bd3786\"],[0.5555555555555556,\"#d8576b\"],[0.6666666666666666,\"#ed7953\"],[0.7777777777777778,\"#fb9f3a\"],[0.8888888888888888,\"#fdca26\"],[1.0,\"#f0f921\"]]},\"colorway\":[\"#636efa\",\"#EF553B\",\"#00cc96\",\"#ab63fa\",\"#FFA15A\",\"#19d3f3\",\"#FF6692\",\"#B6E880\",\"#FF97FF\",\"#FECB52\"],\"font\":{\"color\":\"#2a3f5f\"},\"geo\":{\"bgcolor\":\"white\",\"lakecolor\":\"white\",\"landcolor\":\"#E5ECF6\",\"showlakes\":true,\"showland\":true,\"subunitcolor\":\"white\"},\"hoverlabel\":{\"align\":\"left\"},\"hovermode\":\"closest\",\"mapbox\":{\"style\":\"light\"},\"paper_bgcolor\":\"white\",\"plot_bgcolor\":\"#E5ECF6\",\"polar\":{\"angularaxis\":{\"gridcolor\":\"white\",\"linecolor\":\"white\",\"ticks\":\"\"},\"bgcolor\":\"#E5ECF6\",\"radialaxis\":{\"gridcolor\":\"white\",\"linecolor\":\"white\",\"ticks\":\"\"}},\"scene\":{\"xaxis\":{\"backgroundcolor\":\"#E5ECF6\",\"gridcolor\":\"white\",\"gridwidth\":2,\"linecolor\":\"white\",\"showbackground\":true,\"ticks\":\"\",\"zerolinecolor\":\"white\"},\"yaxis\":{\"backgroundcolor\":\"#E5ECF6\",\"gridcolor\":\"white\",\"gridwidth\":2,\"linecolor\":\"white\",\"showbackground\":true,\"ticks\":\"\",\"zerolinecolor\":\"white\"},\"zaxis\":{\"backgroundcolor\":\"#E5ECF6\",\"gridcolor\":\"white\",\"gridwidth\":2,\"linecolor\":\"white\",\"showbackground\":true,\"ticks\":\"\",\"zerolinecolor\":\"white\"}},\"shapedefaults\":{\"line\":{\"color\":\"#2a3f5f\"}},\"ternary\":{\"aaxis\":{\"gridcolor\":\"white\",\"linecolor\":\"white\",\"ticks\":\"\"},\"baxis\":{\"gridcolor\":\"white\",\"linecolor\":\"white\",\"ticks\":\"\"},\"bgcolor\":\"#E5ECF6\",\"caxis\":{\"gridcolor\":\"white\",\"linecolor\":\"white\",\"ticks\":\"\"}},\"title\":{\"x\":0.05},\"xaxis\":{\"automargin\":true,\"gridcolor\":\"white\",\"linecolor\":\"white\",\"ticks\":\"\",\"title\":{\"standoff\":15},\"zerolinecolor\":\"white\",\"zerolinewidth\":2},\"yaxis\":{\"automargin\":true,\"gridcolor\":\"white\",\"linecolor\":\"white\",\"ticks\":\"\",\"title\":{\"standoff\":15},\"zerolinecolor\":\"white\",\"zerolinewidth\":2}}},\"xaxis\":{\"anchor\":\"y\",\"domain\":[0,0.42],\"zeroline\":false,\"showline\":false,\"showticklabels\":true,\"showgrid\":true},\"yaxis\":{\"anchor\":\"x\",\"domain\":[0,0.85],\"showgrid\":false,\"showline\":false,\"showticklabels\":true},\"xaxis2\":{\"anchor\":\"y2\",\"domain\":[0.47,1],\"zeroline\":false,\"showline\":false,\"showticklabels\":true,\"showgrid\":true,\"side\":\"top\",\"dtick\":25000},\"yaxis2\":{\"anchor\":\"x2\",\"domain\":[0,0.85],\"showgrid\":false,\"showline\":true,\"showticklabels\":false,\"linecolor\":\"rgba(102, 102, 102, 0.8)\",\"linewidth\":2},\"legend\":{\"font\":{\"size\":10},\"x\":0.029,\"y\":1.038},\"margin\":{\"l\":100,\"r\":20,\"t\":70,\"b\":70},\"title\":{\"text\":\"PB concentrate dynamics per step of production\"},\"paper_bgcolor\":\"rgb(248, 248, 255)\",\"plot_bgcolor\":\"rgb(248, 248, 255)\",\"annotations\":[{\"font\":{\"color\":\"rgb(128, 0, 128)\",\"family\":\"Arial\",\"size\":12},\"showarrow\":false,\"text\":\"8.0%\",\"x\":8.0,\"xref\":\"x2\",\"y\":\"rougher.output.concentrate_pb\",\"yref\":\"y2\"},{\"font\":{\"color\":\"rgb(50, 171, 96)\",\"family\":\"Arial\",\"size\":12},\"showarrow\":false,\"text\":\"108445.79\",\"x\":108445.79,\"xref\":\"x\",\"y\":\"rougher.output.concentrate_pb\",\"yref\":\"y\"},{\"font\":{\"color\":\"rgb(128, 0, 128)\",\"family\":\"Arial\",\"size\":12},\"showarrow\":false,\"text\":\"10.0%\",\"x\":10.0,\"xref\":\"x2\",\"y\":\"primary_cleaner.output.concentrate_pb\",\"yref\":\"y2\"},{\"font\":{\"color\":\"rgb(50, 171, 96)\",\"family\":\"Arial\",\"size\":12},\"showarrow\":false,\"text\":\"135385.33\",\"x\":135385.33,\"xref\":\"x\",\"y\":\"primary_cleaner.output.concentrate_pb\",\"yref\":\"y\"},{\"font\":{\"color\":\"rgb(128, 0, 128)\",\"family\":\"Arial\",\"size\":12},\"showarrow\":false,\"text\":\"10.0%\",\"x\":10.0,\"xref\":\"x2\",\"y\":\"final.output.concentrate_pb\",\"yref\":\"y2\"},{\"font\":{\"color\":\"rgb(50, 171, 96)\",\"family\":\"Arial\",\"size\":12},\"showarrow\":false,\"text\":\"143369.66\",\"x\":143369.66,\"xref\":\"x\",\"y\":\"final.output.concentrate_pb\",\"yref\":\"y\"}]},                        {\"responsive\": true}                    ).then(function(){\n",
              "                            \n",
              "var gd = document.getElementById('7af2539e-9020-4672-95f8-fbb8ac576467');\n",
              "var x = new MutationObserver(function (mutations, observer) {{\n",
              "        var display = window.getComputedStyle(gd).display;\n",
              "        if (!display || display === 'none') {{\n",
              "            console.log([gd, 'removed!']);\n",
              "            Plotly.purge(gd);\n",
              "            observer.disconnect();\n",
              "        }}\n",
              "}});\n",
              "\n",
              "// Listen for the removal of the full notebook cells\n",
              "var notebookContainer = gd.closest('#notebook-container');\n",
              "if (notebookContainer) {{\n",
              "    x.observe(notebookContainer, {childList: true});\n",
              "}}\n",
              "\n",
              "// Listen for the clearing of the current output cell\n",
              "var outputEl = gd.closest('.output');\n",
              "if (outputEl) {{\n",
              "    x.observe(outputEl, {childList: true});\n",
              "}}\n",
              "\n",
              "                        })                };                            </script>        </div>\n",
              "</body>\n",
              "</html>"
            ]
          },
          "metadata": {}
        }
      ],
      "source": [
        "import plotly.graph_objects as go\n",
        "from plotly.subplots import make_subplots\n",
        "\n",
        "import numpy as np\n",
        "\n",
        "y_cum_sum = [concentrate_pb_dynamics['rougher.output.concentrate_pb'].sum(),\n",
        "             concentrate_pb_dynamics['primary_cleaner.output.concentrate_pb'].sum(),\n",
        "             concentrate_pb_dynamics['final.output.concentrate_pb'].sum()\n",
        "            ]\n",
        "y_mean = [concentrate_pb_dynamics['rougher.output.concentrate_pb'].mean(),\n",
        "             concentrate_pb_dynamics['primary_cleaner.output.concentrate_pb'].mean(),\n",
        "             concentrate_pb_dynamics['final.output.concentrate_pb'].mean()]\n",
        "\n",
        "x = concentrate_pb_dynamics.columns\n",
        "\n",
        "\n",
        "#Creating two subplots\n",
        "fig = make_subplots(rows=1, cols=2, specs=[[{}, {}]], shared_xaxes=True,\n",
        "                    shared_yaxes=False, vertical_spacing=0.001)\n",
        "\n",
        "fig.append_trace(go.Bar(\n",
        "    x=y_cum_sum,\n",
        "    y=x,\n",
        "    marker=dict(\n",
        "        color='rgba(50, 171, 96, 0.6)',\n",
        "        line=dict(\n",
        "            color='rgba(50, 171, 96, 1.0)',\n",
        "            width=1),\n",
        "    ),\n",
        "    name='Cummulative sum of PB concentration per step, %',\n",
        "    orientation='h',\n",
        "), 1, 1)\n",
        "\n",
        "fig.append_trace(go.Scatter(\n",
        "    x=y_mean, y=x,\n",
        "    mode='lines+markers',\n",
        "    line_color='rgb(128, 0, 128)',\n",
        "    name='Mean PB concentrate per step, %',\n",
        "), 1, 2)\n",
        "\n",
        "fig.update_layout(\n",
        "    title='PB concentrate dynamics per step of production',\n",
        "    yaxis=dict(\n",
        "        showgrid=False,\n",
        "        showline=False,\n",
        "        showticklabels=True,\n",
        "        domain=[0, 0.85],\n",
        "    ),\n",
        "    yaxis2=dict(\n",
        "        showgrid=False,\n",
        "        showline=True,\n",
        "        showticklabels=False,\n",
        "        linecolor='rgba(102, 102, 102, 0.8)',\n",
        "        linewidth=2,\n",
        "        domain=[0, 0.85],\n",
        "    ),\n",
        "    xaxis=dict(\n",
        "        zeroline=False,\n",
        "        showline=False,\n",
        "        showticklabels=True,\n",
        "        showgrid=True,\n",
        "        domain=[0, 0.42],\n",
        "    ),\n",
        "    xaxis2=dict(\n",
        "        zeroline=False,\n",
        "        showline=False,\n",
        "        showticklabels=True,\n",
        "        showgrid=True,\n",
        "        domain=[0.47, 1],\n",
        "        side='top',\n",
        "        dtick=25000,\n",
        "    ),\n",
        "    legend=dict(x=0.029, y=1.038, font_size=10),\n",
        "    margin=dict(l=100, r=20, t=70, b=70),\n",
        "    paper_bgcolor='rgb(248, 248, 255)',\n",
        "    plot_bgcolor='rgb(248, 248, 255)',\n",
        ")\n",
        "\n",
        "annotations = []\n",
        "\n",
        "y_s = np.round(y_cum_sum, decimals=2)\n",
        "y_nw = np.rint(y_mean)\n",
        "\n",
        "#Adding labels\n",
        "for ydn, yd, xd in zip(y_nw, y_s, x):\n",
        "    #labeling the scatter mean concentrate\n",
        "    annotations.append(dict(xref='x2', yref='y2',\n",
        "                            y=xd, x=ydn,\n",
        "                            text='{:,}'.format(ydn) + '%',\n",
        "                            font=dict(family='Arial', size=12,\n",
        "                                      color='rgb(128, 0, 128)'),\n",
        "                            showarrow=False))\n",
        "    #labeling the bar accumulated sum\n",
        "    annotations.append(dict(xref='x1', yref='y1',\n",
        "                            y=xd, x=yd,\n",
        "                            text=str(yd) ,\n",
        "                            font=dict(family='Arial', size=12,\n",
        "                                      color='rgb(50, 171, 96)'),\n",
        "                            showarrow=False))\n",
        "\n",
        "fig.update_layout(annotations=annotations)\n",
        "\n",
        "fig.show()"
      ]
    },
    {
      "cell_type": "markdown",
      "metadata": {
        "id": "u9i2_v6d7Bb6"
      },
      "source": [
        "The concentration of the metal increases during purification at the stage of primary purification, but remains practically unchanged after the secondary purification of raw materials."
      ]
    },
    {
      "cell_type": "code",
      "execution_count": null,
      "metadata": {
        "colab": {
          "base_uri": "https://localhost:8080/",
          "height": 459
        },
        "id": "2eIEb5Nw7Bb6",
        "outputId": "7a7abdb2-7ed1-4bc1-bc81-a6249b7839e7"
      },
      "outputs": [
        {
          "output_type": "execute_result",
          "data": {
            "text/plain": [
              "Text(0.5, 1.0, 'Rougher.input.feed_size')"
            ]
          },
          "metadata": {},
          "execution_count": 16
        },
        {
          "output_type": "display_data",
          "data": {
            "text/plain": [
              "<Figure size 864x432 with 2 Axes>"
            ],
            "image/png": "[encoded data removed]"
          },
          "metadata": {
            "needs_background": "light"
          }
        }
      ],
      "source": [
        "#Comparison of the size distribution of raw material granules on the training and test samples\n",
        "fig, (ax1, ax2) = plt.subplots(1, 2, figsize=(12, 6), tight_layout=True)\n",
        "\n",
        "ax1.set_ylabel('counts')\n",
        "ax1.set_xlabel('feed_size')\n",
        "ax1.hist(data_train['primary_cleaner.input.feed_size'], bins=50)\n",
        "ax1.hist(data_test['primary_cleaner.input.feed_size'], bins=50)\n",
        "ax1.grid(True)\n",
        "ax1.set_title('Primary_cleaner.input.feed_size')\n",
        "\n",
        "ax2.set_xlabel('feed_size')\n",
        "ax2.set_ylabel('count')\n",
        "ax2.hist(data_train['rougher.input.feed_size'], bins=50)\n",
        "ax2.hist(data_test['rougher.input.feed_size'], bins=50)\n",
        "ax2.grid(True)\n",
        "ax2.set_title('Rougher.input.feed_size')\n"
      ]
    },
    {
      "cell_type": "markdown",
      "metadata": {
        "id": "CqP77y3H7Bb7"
      },
      "source": [
        "The distribution for the test sample is slightly different from that for the training sample - the first one is slightly shifted down. But in general, the sizes of most particles lie in the optimal range of 40–100 µm (“Flotation of the ore”: Tekhnoanalitpribor LLC: [website]. URL: https://techade.ru/stati/flotatsiya-rudy) for both samples. So yes, the samples are eligible for evaluation."
      ]
    },
    {
      "cell_type": "code",
      "execution_count": null,
      "metadata": {
        "id": "JORQO-qJ7Bb7"
      },
      "outputs": [],
      "source": [
        "#total concentration of all substances at different stages\n",
        "data_train['rougher.output.concentrate_total'] = data_train['rougher.output.concentrate_ag']+data_train['rougher.output.concentrate_pb']+data_train['rougher.output.concentrate_au']+data_train['rougher.output.concentrate_sol']  \n",
        "            \n",
        "data_train['rougher.input.feed_total'] = data_train['rougher.input.feed_ag']+data_train['rougher.input.feed_pb']+data_train['rougher.input.feed_au']+data_train['rougher.input.feed_sol'] \n",
        "\n",
        "data_train['final.output.concentrate_total'] = data_train['final.output.concentrate_ag']+data_train['final.output.concentrate_pb']+data_train['final.output.concentrate_au']+data_train['final.output.concentrate_sol']  "
      ]
    },
    {
      "cell_type": "code",
      "execution_count": null,
      "metadata": {
        "colab": {
          "base_uri": "https://localhost:8080/",
          "height": 283
        },
        "id": "_Qr4c8-g7Bb7",
        "outputId": "aa4f4d40-8c5e-4b39-f6ed-8e4ccd6dacac"
      },
      "outputs": [
        {
          "output_type": "execute_result",
          "data": {
            "text/plain": [
              "<matplotlib.axes._subplots.AxesSubplot at 0x7f31e4c9fc10>"
            ]
          },
          "metadata": {},
          "execution_count": 18
        },
        {
          "output_type": "display_data",
          "data": {
            "text/plain": [
              "<Figure size 432x288 with 1 Axes>"
            ],
            "image/png": "[encoded data removed]"
          },
          "metadata": {
            "needs_background": "light"
          }
        }
      ],
      "source": [
        "data_train['rougher.input.feed_total'].hist(bins=50)"
      ]
    },
    {
      "cell_type": "code",
      "execution_count": null,
      "metadata": {
        "colab": {
          "base_uri": "https://localhost:8080/",
          "height": 408
        },
        "id": "zIi6a7Xa7Bb7",
        "outputId": "d9b0af58-d21c-4aff-8c5e-355d1e624242"
      },
      "outputs": [
        {
          "output_type": "execute_result",
          "data": {
            "text/plain": [
              "{'whiskers': [<matplotlib.lines.Line2D at 0x7f31e76b7810>,\n",
              "  <matplotlib.lines.Line2D at 0x7f31e76cee90>],\n",
              " 'caps': [<matplotlib.lines.Line2D at 0x7f31e7662150>,\n",
              "  <matplotlib.lines.Line2D at 0x7f31e76c24d0>],\n",
              " 'boxes': [<matplotlib.lines.Line2D at 0x7f31e7773350>],\n",
              " 'medians': [<matplotlib.lines.Line2D at 0x7f31e47d7510>],\n",
              " 'fliers': [<matplotlib.lines.Line2D at 0x7f31e4c6b350>],\n",
              " 'means': []}"
            ]
          },
          "metadata": {},
          "execution_count": 19
        },
        {
          "output_type": "display_data",
          "data": {
            "text/plain": [
              "<Figure size 432x288 with 1 Axes>"
            ],
            "image/png": "[encoded data removed]"
          },
          "metadata": {
            "needs_background": "light"
          }
        }
      ],
      "source": [
        "plt.boxplot(data_train['rougher.input.feed_total'])"
      ]
    },
    {
      "cell_type": "code",
      "execution_count": null,
      "metadata": {
        "id": "VuZ_RY8R7Bb7"
      },
      "outputs": [],
      "source": [
        "data_train = data_train[data_train['rougher.input.feed_total'] != 0]"
      ]
    },
    {
      "cell_type": "code",
      "execution_count": null,
      "metadata": {
        "colab": {
          "base_uri": "https://localhost:8080/",
          "height": 283
        },
        "id": "9L_vSw4M7Bb8",
        "outputId": "b6aa1f9f-0cc5-434b-8ad9-8aa57c16b483"
      },
      "outputs": [
        {
          "output_type": "execute_result",
          "data": {
            "text/plain": [
              "<matplotlib.axes._subplots.AxesSubplot at 0x7f31e7dab490>"
            ]
          },
          "metadata": {},
          "execution_count": 21
        },
        {
          "output_type": "display_data",
          "data": {
            "text/plain": [
              "<Figure size 432x288 with 1 Axes>"
            ],
            "image/png": "[encoded data removed]"
          },
          "metadata": {
            "needs_background": "light"
          }
        }
      ],
      "source": [
        "data_train['rougher.output.concentrate_total'].hist(bins=50)"
      ]
    },
    {
      "cell_type": "code",
      "execution_count": null,
      "metadata": {
        "colab": {
          "base_uri": "https://localhost:8080/",
          "height": 408
        },
        "id": "NCDr-jCZ7Bb8",
        "outputId": "da973a4d-edc6-41cb-8470-8c13afd4beb2"
      },
      "outputs": [
        {
          "output_type": "execute_result",
          "data": {
            "text/plain": [
              "{'whiskers': [<matplotlib.lines.Line2D at 0x7f31e460dd10>,\n",
              "  <matplotlib.lines.Line2D at 0x7f31e4613290>],\n",
              " 'caps': [<matplotlib.lines.Line2D at 0x7f31e46137d0>,\n",
              "  <matplotlib.lines.Line2D at 0x7f31e4613d10>],\n",
              " 'boxes': [<matplotlib.lines.Line2D at 0x7f31e45f1450>],\n",
              " 'medians': [<matplotlib.lines.Line2D at 0x7f31e459b2d0>],\n",
              " 'fliers': [<matplotlib.lines.Line2D at 0x7f31e459b810>],\n",
              " 'means': []}"
            ]
          },
          "metadata": {},
          "execution_count": 22
        },
        {
          "output_type": "display_data",
          "data": {
            "text/plain": [
              "<Figure size 432x288 with 1 Axes>"
            ],
            "image/png": "[encoded data removed]"
          },
          "metadata": {
            "needs_background": "light"
          }
        }
      ],
      "source": [
        "plt.boxplot(data_train['rougher.output.concentrate_total'])"
      ]
    },
    {
      "cell_type": "code",
      "execution_count": null,
      "metadata": {
        "id": "35W2ALyj7Bb8"
      },
      "outputs": [],
      "source": [
        "data_train = data_train[data_train['rougher.output.concentrate_total'] != 0]"
      ]
    },
    {
      "cell_type": "code",
      "execution_count": null,
      "metadata": {
        "colab": {
          "base_uri": "https://localhost:8080/",
          "height": 284
        },
        "id": "DbwsbMCP7Bb8",
        "outputId": "4f9de772-3201-45ab-eb5d-55f25442a74c"
      },
      "outputs": [
        {
          "output_type": "execute_result",
          "data": {
            "text/plain": [
              "<matplotlib.axes._subplots.AxesSubplot at 0x7f31e45c6a10>"
            ]
          },
          "metadata": {},
          "execution_count": 24
        },
        {
          "output_type": "display_data",
          "data": {
            "text/plain": [
              "<Figure size 432x288 with 1 Axes>"
            ],
            "image/png": "[encoded data removed]"
          },
          "metadata": {
            "needs_background": "light"
          }
        }
      ],
      "source": [
        "data_train['final.output.concentrate_total'].hist(bins=50)"
      ]
    },
    {
      "cell_type": "code",
      "execution_count": null,
      "metadata": {
        "colab": {
          "base_uri": "https://localhost:8080/",
          "height": 408
        },
        "id": "B-pq74Dt7Bb8",
        "outputId": "f93262c6-58f6-4468-fd6a-84b3b34770b9"
      },
      "outputs": [
        {
          "output_type": "execute_result",
          "data": {
            "text/plain": [
              "{'whiskers': [<matplotlib.lines.Line2D at 0x7f31e448bf10>,\n",
              "  <matplotlib.lines.Line2D at 0x7f31e4490490>],\n",
              " 'caps': [<matplotlib.lines.Line2D at 0x7f31e44909d0>,\n",
              "  <matplotlib.lines.Line2D at 0x7f31e4490f10>],\n",
              " 'boxes': [<matplotlib.lines.Line2D at 0x7f31e446f690>],\n",
              " 'medians': [<matplotlib.lines.Line2D at 0x7f31e44184d0>],\n",
              " 'fliers': [<matplotlib.lines.Line2D at 0x7f31e4418a10>],\n",
              " 'means': []}"
            ]
          },
          "metadata": {},
          "execution_count": 25
        },
        {
          "output_type": "display_data",
          "data": {
            "text/plain": [
              "<Figure size 432x288 with 1 Axes>"
            ],
            "image/png": "[encoded data removed]"
          },
          "metadata": {
            "needs_background": "light"
          }
        }
      ],
      "source": [
        "plt.boxplot(data_train['final.output.concentrate_total'])"
      ]
    },
    {
      "cell_type": "code",
      "execution_count": null,
      "metadata": {
        "id": "u6wbpKbh7Bb8"
      },
      "outputs": [],
      "source": [
        "data_train = data_train[data_train['final.output.concentrate_total'] != 0]"
      ]
    },
    {
      "cell_type": "markdown",
      "metadata": {
        "id": "m_4v-mQM7Bb8"
      },
      "source": [
        "At the stage of raw materials, the distribution of the concentration of substances is in the range from 40% to 70%. At the stage of crude concentrate, the total concentration of all substances is shifted to the right in the range from 50% to 85%. At the stage of the final concentrate, the total concentration of all substances goes into the range from 65% to 75%."
      ]
    },
    {
      "cell_type": "markdown",
      "metadata": {
        "id": "tY3s3fmo7Bb9"
      },
      "source": [
        "There are zero anomalies in total concentrations - and it is better to \"kill\" them. The fact is that at least a gram of something is in the \"total ore\" - salt + gold + silver + lead - there must definitely be something .. And if we have zero, then there is a high probability of inaccurate measurements."
      ]
    },
    {
      "cell_type": "markdown",
      "metadata": {
        "id": "ZWZI0g7z7Bb9"
      },
      "source": [
        "## Модель"
      ]
    },
    {
      "cell_type": "code",
      "execution_count": null,
      "metadata": {
        "id": "makprOwY7Bb9"
      },
      "outputs": [],
      "source": [
        "#Let's highlight the influencing factors and resulting indicators\n",
        "X_columns  = data_test.drop(columns=['date',\n",
        "                                     'rougher.input.feed_ag', \n",
        "                                     'rougher.input.feed_pb',\n",
        "                                     'rougher.input.feed_sol']).columns"
      ]
    },
    {
      "cell_type": "code",
      "execution_count": null,
      "metadata": {
        "id": "l2ufX75i7Bb9"
      },
      "outputs": [],
      "source": [
        "Y_columns = ['rougher.output.recovery', 'final.output.recovery']"
      ]
    },
    {
      "cell_type": "code",
      "execution_count": null,
      "metadata": {
        "colab": {
          "base_uri": "https://localhost:8080/"
        },
        "id": "qn-A7f6x7Bb9",
        "outputId": "907f18bb-02f7-4a35-8445-495f78e7dec0"
      },
      "outputs": [
        {
          "output_type": "stream",
          "name": "stdout",
          "text": [
            "Model tested: LinearRegression()\n",
            "Best Score: 180.98445150813168\n",
            "Best Hyperparameters: {'copy_X': True, 'fit_intercept': False, 'n_jobs': None}\n",
            "Model tested: RandomForestRegressor(random_state=0)\n",
            "Best Score: 12.603258682763611\n",
            "Best Hyperparameters: {'max_depth': 9, 'n_estimators': 1}\n",
            "Model tested: DecisionTreeRegressor(random_state=0)\n",
            "Best Score: 14.328919704764557\n",
            "Best Hyperparameters: {'max_depth': 9, 'min_samples_split': 3}\n"
          ]
        }
      ],
      "source": [
        "#Resulting function\n",
        "def sMAPE(target_test, predictions):\n",
        "    rougher, final  = (abs(target_test - predictions)/((abs(target_test) + abs(predictions)) /2)).mean() * 100\n",
        "    result = (0.25*rougher + 0.75*final)\n",
        "    return result\n",
        "\n",
        "smape = make_scorer(sMAPE)\n",
        "\n",
        "#Split the data into training and test features and targets\n",
        "X_train = data_train[X_columns]\n",
        "Y_train = data_train[Y_columns]\n",
        "X_test = data_test[X_columns]\n",
        "Y_test = data_full[data_full['date'].isin(data_test['date'])][Y_columns].reset_index(drop=True)\n",
        "\n",
        "#Factors normalization\n",
        "scaler = StandardScaler()\n",
        "scaler.fit(X_train)\n",
        "X_train_scaled = scaler.transform(X_train)\n",
        "X_test_scaled = scaler.transform(X_test)\n",
        "\n",
        "#Description of the model and hyperparameters\n",
        "model_lr = LinearRegression()\n",
        "params_lr = {\n",
        "    'fit_intercept':[True, False],\n",
        "    'copy_X':[True, False],\n",
        "    'n_jobs':[None, -1]\n",
        "}\n",
        "\n",
        "model_forest = RandomForestRegressor(random_state=0)\n",
        "params_forest = {\n",
        "    'max_depth':np.array(range(1,10)),\n",
        "    'n_estimators':np.array(range(1,10))\n",
        "}\n",
        "\n",
        "model_tree = DecisionTreeRegressor(random_state=0)\n",
        "params_tree = {\n",
        "    'max_depth':np.array(range(1,10)),\n",
        "    'min_samples_split':np.array(range(2,10))\n",
        "}\n",
        "\n",
        "models = [model_lr, model_forest, model_tree]\n",
        "params = [params_lr, params_forest, params_tree]\n",
        "\n",
        "#Cross-validation for model checking\n",
        "for i, j in zip(models, params):\n",
        "    \n",
        "\n",
        "    search = GridSearchCV(estimator=i,\n",
        "                         param_grid=j,\n",
        "                         scoring=smape,\n",
        "                         cv = 3)\n",
        "\n",
        "    result = search.fit(X_train_scaled, Y_train)\n",
        "\n",
        "    print('Model tested: %s' % i)\n",
        "    print('Best Score: %s' % result.best_score_)\n",
        "    print('Best Hyperparameters: %s' % result.best_params_)"
      ]
    },
    {
      "cell_type": "markdown",
      "metadata": {
        "id": "Caq1HTpg7Bb-"
      },
      "source": [
        "Thus, the smallest smape value is shown by the RandomForestRegressor model. Let's test it on a test sample."
      ]
    },
    {
      "cell_type": "code",
      "execution_count": null,
      "metadata": {
        "colab": {
          "base_uri": "https://localhost:8080/"
        },
        "id": "3KyX7FJ47Bb-",
        "outputId": "bde6eec2-aae5-453b-a490-20fe765816d4"
      },
      "outputs": [
        {
          "output_type": "stream",
          "name": "stdout",
          "text": [
            "Final value sMAPE: 10.57%\n"
          ]
        }
      ],
      "source": [
        "model = RandomForestRegressor(random_state=0, max_depth=9, n_estimators=1)\n",
        "model.fit(X_train_scaled, Y_train)\n",
        "predictions = model.predict(X_test_scaled)\n",
        "print('Final value sMAPE: {:.2f}%'.format(sMAPE(Y_test, predictions)))"
      ]
    },
    {
      "cell_type": "markdown",
      "metadata": {
        "id": "w1hd5nNo7Bb-"
      },
      "source": [
        "The value of the resulting metric on the test sample turned out to be 10.57%, which is a fairly representative value for the model."
      ]
    },
    {
      "cell_type": "markdown",
      "metadata": {
        "id": "Xz6VIX8F7Bb-"
      },
      "source": [
        "The metric is quite low. And that's good.<br>\n",
        "We need to understand that our model predicts better than just the average.<br>\n",
        "For example, substitute the median values ​​of the target train into the predictive metric formula. <br>\n",
        "Or use DummyRegression."
      ]
    },
    {
      "cell_type": "code",
      "execution_count": null,
      "metadata": {
        "id": "_N30yr3_7Bb-"
      },
      "outputs": [],
      "source": [
        "Y_train_rougher = Y_train['rougher.output.recovery']\n",
        "Y_train_final = Y_train['final.output.recovery']"
      ]
    },
    {
      "cell_type": "code",
      "execution_count": null,
      "metadata": {
        "colab": {
          "base_uri": "https://localhost:8080/"
        },
        "id": "dVUYE9dD7Bb-",
        "outputId": "ebb20dab-8295-427c-cb1f-f0776de37def"
      },
      "outputs": [
        {
          "output_type": "stream",
          "name": "stdout",
          "text": [
            "sMAPE: 9.44%\n"
          ]
        }
      ],
      "source": [
        "from sklearn.dummy import DummyRegressor\n",
        "\n",
        "dummy_regressor = DummyRegressor(strategy=\"median\")\n",
        "\n",
        "dummy_regressor.fit(X_train_scaled, Y_train_rougher)\n",
        "dummy_rougher_pred = dummy_regressor.predict(X_test)\n",
        "\n",
        "dummy_regressor.fit(X_train_scaled, Y_train_final)\n",
        "dummy_final_pred = dummy_regressor.predict(X_test)\n",
        "\n",
        "dummy_pred = np.column_stack([dummy_rougher_pred, dummy_final_pred])\n",
        "\n",
        "smape_dummy = sMAPE(Y_test, dummy_pred)\n",
        "print('sMAPE: {:.2f}%'.format(smape_dummy))\n",
        " "
      ]
    },
    {
      "cell_type": "markdown",
      "metadata": {
        "id": "SXYiXXEE7Bb-"
      },
      "source": [
        "Comparison with the constant model showed that the sMAPE metric on the constant model is slightly lower than on the predicted values ​​of the random forest model, so it is rather difficult to talk about the adequacy of the predictions made by the model."
      ]
    }
  ],
  "metadata": {
    "ExecuteTimeLog": [
      {
        "duration": 1004,
        "start_time": "2021-07-10T14:12:23.960Z"
      },
      {
        "duration": 1217,
        "start_time": "2021-07-10T14:12:26.860Z"
      },
      {
        "duration": 26,
        "start_time": "2021-07-10T14:12:31.563Z"
      },
      {
        "duration": 3,
        "start_time": "2021-07-10T14:13:31.034Z"
      },
      {
        "duration": 896,
        "start_time": "2021-07-10T14:13:31.673Z"
      },
      {
        "duration": 27,
        "start_time": "2021-07-10T14:13:32.572Z"
      },
      {
        "duration": 19,
        "start_time": "2021-07-10T14:13:59.423Z"
      },
      {
        "duration": 26,
        "start_time": "2021-07-10T14:14:08.766Z"
      },
      {
        "duration": 910,
        "start_time": "2021-07-10T14:33:08.540Z"
      },
      {
        "duration": 18,
        "start_time": "2021-07-10T14:33:09.453Z"
      },
      {
        "duration": 25,
        "start_time": "2021-07-10T14:33:17.357Z"
      },
      {
        "duration": 417,
        "start_time": "2021-07-10T14:39:49.825Z"
      },
      {
        "duration": 11,
        "start_time": "2021-07-10T14:40:19.317Z"
      },
      {
        "duration": 16,
        "start_time": "2021-07-10T14:40:25.929Z"
      },
      {
        "duration": 566,
        "start_time": "2021-07-10T14:56:08.697Z"
      },
      {
        "duration": 364,
        "start_time": "2021-07-10T14:56:15.200Z"
      },
      {
        "duration": 330,
        "start_time": "2021-07-10T14:58:24.239Z"
      },
      {
        "duration": 6,
        "start_time": "2021-07-10T14:58:35.674Z"
      },
      {
        "duration": 8,
        "start_time": "2021-07-10T14:58:47.530Z"
      },
      {
        "duration": 7,
        "start_time": "2021-07-10T14:58:59.250Z"
      },
      {
        "duration": 7,
        "start_time": "2021-07-10T14:59:12.775Z"
      },
      {
        "duration": 7,
        "start_time": "2021-07-10T14:59:33.228Z"
      },
      {
        "duration": 7,
        "start_time": "2021-07-10T14:59:40.211Z"
      },
      {
        "duration": 5,
        "start_time": "2021-07-10T14:59:47.991Z"
      },
      {
        "duration": 6,
        "start_time": "2021-07-10T14:59:58.535Z"
      },
      {
        "duration": 7,
        "start_time": "2021-07-10T15:00:08.540Z"
      },
      {
        "duration": 7,
        "start_time": "2021-07-10T15:00:16.759Z"
      },
      {
        "duration": 424,
        "start_time": "2021-07-10T15:01:21.281Z"
      },
      {
        "duration": 7,
        "start_time": "2021-07-10T15:01:45.433Z"
      },
      {
        "duration": 7,
        "start_time": "2021-07-10T15:01:54.453Z"
      },
      {
        "duration": 310,
        "start_time": "2021-07-10T15:08:49.055Z"
      },
      {
        "duration": 57,
        "start_time": "2021-07-10T15:09:12.374Z"
      },
      {
        "duration": 34,
        "start_time": "2021-07-10T15:09:22.023Z"
      },
      {
        "duration": 11,
        "start_time": "2021-07-10T15:09:48.118Z"
      },
      {
        "duration": 26,
        "start_time": "2021-07-10T15:09:54.384Z"
      },
      {
        "duration": 6,
        "start_time": "2021-07-10T15:09:58.584Z"
      },
      {
        "duration": 309,
        "start_time": "2021-07-10T15:09:59.744Z"
      },
      {
        "duration": 8,
        "start_time": "2021-07-10T15:11:56.902Z"
      },
      {
        "duration": 8,
        "start_time": "2021-07-10T15:12:08.430Z"
      },
      {
        "duration": 606,
        "start_time": "2021-07-10T15:12:35.467Z"
      },
      {
        "duration": 755,
        "start_time": "2021-07-10T15:12:55.522Z"
      },
      {
        "duration": 13,
        "start_time": "2021-07-10T15:13:19.900Z"
      },
      {
        "duration": 8,
        "start_time": "2021-07-10T15:14:04.067Z"
      },
      {
        "duration": 15,
        "start_time": "2021-07-10T15:14:11.531Z"
      },
      {
        "duration": 8,
        "start_time": "2021-07-10T15:15:09.676Z"
      },
      {
        "duration": 439,
        "start_time": "2021-07-10T15:15:10.836Z"
      },
      {
        "duration": 15,
        "start_time": "2021-07-10T15:15:12.664Z"
      },
      {
        "duration": 8,
        "start_time": "2021-07-10T15:15:13.765Z"
      },
      {
        "duration": 7,
        "start_time": "2021-07-10T15:15:51.666Z"
      },
      {
        "duration": 8,
        "start_time": "2021-07-10T15:15:56.528Z"
      },
      {
        "duration": 7,
        "start_time": "2021-07-10T15:17:28.924Z"
      },
      {
        "duration": 15,
        "start_time": "2021-07-10T15:20:34.154Z"
      },
      {
        "duration": 18,
        "start_time": "2021-07-10T15:20:49.406Z"
      },
      {
        "duration": 7,
        "start_time": "2021-07-10T15:30:18.988Z"
      },
      {
        "duration": 391,
        "start_time": "2021-07-10T15:31:26.474Z"
      },
      {
        "duration": 48,
        "start_time": "2021-07-10T15:31:36.602Z"
      },
      {
        "duration": 379,
        "start_time": "2021-07-10T15:31:48.173Z"
      },
      {
        "duration": 339,
        "start_time": "2021-07-10T15:32:20.138Z"
      },
      {
        "duration": 441,
        "start_time": "2021-07-10T15:32:45.899Z"
      },
      {
        "duration": 45,
        "start_time": "2021-07-10T15:32:52.786Z"
      },
      {
        "duration": 113,
        "start_time": "2021-07-10T15:33:24.968Z"
      },
      {
        "duration": 47,
        "start_time": "2021-07-10T15:33:54.208Z"
      },
      {
        "duration": 315,
        "start_time": "2021-07-10T15:34:17.908Z"
      },
      {
        "duration": 7,
        "start_time": "2021-07-10T15:34:32.357Z"
      },
      {
        "duration": 5,
        "start_time": "2021-07-10T15:34:44.270Z"
      },
      {
        "duration": 329,
        "start_time": "2021-07-10T15:35:07.039Z"
      },
      {
        "duration": 348,
        "start_time": "2021-07-10T15:35:18.696Z"
      },
      {
        "duration": 306,
        "start_time": "2021-07-10T15:35:46.284Z"
      },
      {
        "duration": 7,
        "start_time": "2021-07-10T15:36:11.452Z"
      },
      {
        "duration": 300,
        "start_time": "2021-07-10T15:36:26.402Z"
      },
      {
        "duration": 7,
        "start_time": "2021-07-10T15:37:08.965Z"
      },
      {
        "duration": 6,
        "start_time": "2021-07-10T15:37:17.631Z"
      },
      {
        "duration": 6,
        "start_time": "2021-07-10T15:37:23.703Z"
      },
      {
        "duration": 321,
        "start_time": "2021-07-10T15:37:59.228Z"
      },
      {
        "duration": 357,
        "start_time": "2021-07-10T15:38:18.100Z"
      },
      {
        "duration": 7,
        "start_time": "2021-07-10T15:38:36.393Z"
      },
      {
        "duration": 7,
        "start_time": "2021-07-10T15:38:48.184Z"
      },
      {
        "duration": 6,
        "start_time": "2021-07-10T15:38:54.594Z"
      },
      {
        "duration": 6,
        "start_time": "2021-07-10T15:39:09.302Z"
      },
      {
        "duration": 7,
        "start_time": "2021-07-10T15:39:22.348Z"
      },
      {
        "duration": 348,
        "start_time": "2021-07-10T15:39:36.664Z"
      },
      {
        "duration": 12,
        "start_time": "2021-07-10T15:39:49.413Z"
      },
      {
        "duration": 9,
        "start_time": "2021-07-10T15:40:25.941Z"
      },
      {
        "duration": 11,
        "start_time": "2021-07-10T15:40:35.390Z"
      },
      {
        "duration": 42,
        "start_time": "2021-07-10T15:41:02.786Z"
      },
      {
        "duration": 20,
        "start_time": "2021-07-10T15:41:15.712Z"
      },
      {
        "duration": 25,
        "start_time": "2021-07-10T16:11:06.859Z"
      },
      {
        "duration": 316,
        "start_time": "2021-07-10T16:12:41.130Z"
      },
      {
        "duration": 8,
        "start_time": "2021-07-10T16:12:50.794Z"
      },
      {
        "duration": 296,
        "start_time": "2021-07-10T16:13:37.359Z"
      },
      {
        "duration": 15,
        "start_time": "2021-07-10T16:14:09.952Z"
      },
      {
        "duration": 6,
        "start_time": "2021-07-10T16:14:55.458Z"
      },
      {
        "duration": 13,
        "start_time": "2021-07-10T16:16:14.829Z"
      },
      {
        "duration": 11,
        "start_time": "2021-07-10T16:17:05.217Z"
      },
      {
        "duration": 20,
        "start_time": "2021-07-10T16:17:42.098Z"
      },
      {
        "duration": 811,
        "start_time": "2021-07-10T16:17:57.238Z"
      },
      {
        "duration": 666,
        "start_time": "2021-07-10T16:19:40.792Z"
      },
      {
        "duration": 15,
        "start_time": "2021-07-10T16:21:44.467Z"
      },
      {
        "duration": 15,
        "start_time": "2021-07-10T16:27:43.575Z"
      },
      {
        "duration": 365,
        "start_time": "2021-07-10T16:36:40.586Z"
      },
      {
        "duration": 1022,
        "start_time": "2021-07-10T16:37:35.387Z"
      },
      {
        "duration": 288,
        "start_time": "2021-07-10T16:39:49.343Z"
      },
      {
        "duration": 281,
        "start_time": "2021-07-10T16:41:35.789Z"
      },
      {
        "duration": 430,
        "start_time": "2021-07-10T16:44:24.102Z"
      },
      {
        "duration": 282,
        "start_time": "2021-07-10T16:46:30.112Z"
      },
      {
        "duration": 1865,
        "start_time": "2021-07-17T19:40:03.016Z"
      },
      {
        "duration": 885,
        "start_time": "2021-07-17T19:40:04.883Z"
      },
      {
        "duration": 14,
        "start_time": "2021-07-17T19:40:05.770Z"
      },
      {
        "duration": 25,
        "start_time": "2021-07-17T19:40:05.787Z"
      },
      {
        "duration": 12,
        "start_time": "2021-07-17T19:40:05.814Z"
      },
      {
        "duration": 6,
        "start_time": "2021-07-17T19:40:05.828Z"
      },
      {
        "duration": 5,
        "start_time": "2021-07-17T19:40:05.868Z"
      },
      {
        "duration": 25,
        "start_time": "2021-07-17T19:40:05.876Z"
      },
      {
        "duration": 19,
        "start_time": "2021-07-17T19:40:05.905Z"
      },
      {
        "duration": 9,
        "start_time": "2021-07-17T19:40:05.926Z"
      },
      {
        "duration": 53,
        "start_time": "2021-07-17T19:40:05.937Z"
      },
      {
        "duration": 14,
        "start_time": "2021-07-17T19:40:05.993Z"
      },
      {
        "duration": 887,
        "start_time": "2021-07-17T19:40:06.010Z"
      },
      {
        "duration": 418,
        "start_time": "2021-07-17T19:40:06.900Z"
      },
      {
        "duration": 416,
        "start_time": "2021-07-17T19:40:07.321Z"
      },
      {
        "duration": 19,
        "start_time": "2021-07-17T21:04:41.562Z"
      },
      {
        "duration": 622,
        "start_time": "2021-07-17T21:05:47.611Z"
      },
      {
        "duration": 7,
        "start_time": "2021-07-17T21:06:05.512Z"
      },
      {
        "duration": 415,
        "start_time": "2021-07-17T21:07:34.166Z"
      },
      {
        "duration": 429,
        "start_time": "2021-07-17T21:07:46.466Z"
      },
      {
        "duration": 572,
        "start_time": "2021-07-17T21:08:04.897Z"
      },
      {
        "duration": 369,
        "start_time": "2021-07-17T21:13:11.383Z"
      },
      {
        "duration": 5,
        "start_time": "2021-07-17T21:13:39.354Z"
      },
      {
        "duration": 397,
        "start_time": "2021-07-17T21:13:56.084Z"
      },
      {
        "duration": 4,
        "start_time": "2021-07-17T21:14:21.097Z"
      },
      {
        "duration": 1076,
        "start_time": "2021-07-17T21:14:36.664Z"
      },
      {
        "duration": 19,
        "start_time": "2021-07-17T21:16:36.069Z"
      },
      {
        "duration": 1535,
        "start_time": "2021-07-17T21:17:17.737Z"
      },
      {
        "duration": 1060,
        "start_time": "2021-07-17T21:18:34.367Z"
      },
      {
        "duration": 1008,
        "start_time": "2021-07-17T21:18:51.613Z"
      },
      {
        "duration": 1203,
        "start_time": "2021-07-17T21:19:17.145Z"
      },
      {
        "duration": 1376,
        "start_time": "2021-07-17T21:19:44.647Z"
      },
      {
        "duration": 1526,
        "start_time": "2021-07-17T21:20:02.795Z"
      },
      {
        "duration": 1369,
        "start_time": "2021-07-17T21:20:37.207Z"
      },
      {
        "duration": 1632,
        "start_time": "2021-07-17T21:20:53.803Z"
      },
      {
        "duration": 1475,
        "start_time": "2021-07-17T21:21:10.834Z"
      },
      {
        "duration": 1643,
        "start_time": "2021-07-17T21:21:28.724Z"
      },
      {
        "duration": 1402,
        "start_time": "2021-07-17T21:22:26.529Z"
      },
      {
        "duration": 1547,
        "start_time": "2021-07-17T21:23:57.452Z"
      },
      {
        "duration": 1506,
        "start_time": "2021-07-17T21:24:49.182Z"
      },
      {
        "duration": 2185,
        "start_time": "2021-07-18T19:33:53.994Z"
      },
      {
        "duration": 892,
        "start_time": "2021-07-18T19:34:02.251Z"
      },
      {
        "duration": 17,
        "start_time": "2021-07-18T19:34:03.996Z"
      },
      {
        "duration": 26,
        "start_time": "2021-07-18T19:34:07.271Z"
      },
      {
        "duration": 13,
        "start_time": "2021-07-18T19:34:12.143Z"
      },
      {
        "duration": 6,
        "start_time": "2021-07-18T19:34:13.040Z"
      },
      {
        "duration": 6,
        "start_time": "2021-07-18T19:34:14.836Z"
      },
      {
        "duration": 18,
        "start_time": "2021-07-18T19:34:15.803Z"
      },
      {
        "duration": 19,
        "start_time": "2021-07-18T19:53:01.047Z"
      },
      {
        "duration": 9,
        "start_time": "2021-07-18T19:53:05.081Z"
      },
      {
        "duration": 1024,
        "start_time": "2021-07-18T19:53:05.920Z"
      },
      {
        "duration": 454,
        "start_time": "2021-07-18T19:53:19.524Z"
      },
      {
        "duration": 346,
        "start_time": "2021-07-18T19:53:23.350Z"
      },
      {
        "duration": 1547,
        "start_time": "2021-07-18T19:53:26.839Z"
      },
      {
        "duration": 180,
        "start_time": "2021-07-18T20:02:28.582Z"
      },
      {
        "duration": 96,
        "start_time": "2021-07-18T20:08:32.586Z"
      },
      {
        "duration": 107,
        "start_time": "2021-07-18T20:08:51.499Z"
      },
      {
        "duration": 108,
        "start_time": "2021-07-18T20:09:09.155Z"
      },
      {
        "duration": 99,
        "start_time": "2021-07-18T20:09:17.942Z"
      },
      {
        "duration": 12,
        "start_time": "2021-07-18T20:26:12.489Z"
      },
      {
        "duration": 8,
        "start_time": "2021-07-18T20:26:55.285Z"
      },
      {
        "duration": 296,
        "start_time": "2021-07-18T20:27:01.289Z"
      },
      {
        "duration": 561,
        "start_time": "2021-07-18T20:27:26.201Z"
      },
      {
        "duration": 608,
        "start_time": "2021-07-18T20:27:47.547Z"
      },
      {
        "duration": 477,
        "start_time": "2021-07-18T20:28:09.386Z"
      },
      {
        "duration": 64,
        "start_time": "2021-07-18T20:28:41.489Z"
      },
      {
        "duration": 10,
        "start_time": "2021-07-18T20:32:23.159Z"
      },
      {
        "duration": 421,
        "start_time": "2021-07-18T20:32:24.172Z"
      },
      {
        "duration": 724,
        "start_time": "2021-07-18T20:32:39.538Z"
      },
      {
        "duration": 447,
        "start_time": "2021-07-18T20:32:46.572Z"
      },
      {
        "duration": 17,
        "start_time": "2021-07-18T20:59:27.614Z"
      },
      {
        "duration": 1765,
        "start_time": "2021-08-16T18:29:09.503Z"
      },
      {
        "duration": 906,
        "start_time": "2021-08-16T18:29:10.364Z"
      },
      {
        "duration": 905,
        "start_time": "2021-08-16T18:29:10.366Z"
      },
      {
        "duration": 840,
        "start_time": "2021-08-16T18:29:10.432Z"
      },
      {
        "duration": 833,
        "start_time": "2021-08-16T18:29:10.440Z"
      },
      {
        "duration": 831,
        "start_time": "2021-08-16T18:29:10.443Z"
      },
      {
        "duration": 829,
        "start_time": "2021-08-16T18:29:10.446Z"
      },
      {
        "duration": 827,
        "start_time": "2021-08-16T18:29:10.449Z"
      },
      {
        "duration": 825,
        "start_time": "2021-08-16T18:29:10.452Z"
      },
      {
        "duration": 824,
        "start_time": "2021-08-16T18:29:10.454Z"
      },
      {
        "duration": 823,
        "start_time": "2021-08-16T18:29:10.456Z"
      },
      {
        "duration": 822,
        "start_time": "2021-08-16T18:29:10.458Z"
      },
      {
        "duration": 821,
        "start_time": "2021-08-16T18:29:10.460Z"
      },
      {
        "duration": 820,
        "start_time": "2021-08-16T18:29:10.462Z"
      },
      {
        "duration": 818,
        "start_time": "2021-08-16T18:29:10.465Z"
      },
      {
        "duration": 817,
        "start_time": "2021-08-16T18:29:10.467Z"
      },
      {
        "duration": 816,
        "start_time": "2021-08-16T18:29:10.469Z"
      },
      {
        "duration": 816,
        "start_time": "2021-08-16T18:29:10.470Z"
      },
      {
        "duration": 814,
        "start_time": "2021-08-16T18:29:10.472Z"
      },
      {
        "duration": 813,
        "start_time": "2021-08-16T18:29:10.474Z"
      },
      {
        "duration": 812,
        "start_time": "2021-08-16T18:29:10.476Z"
      },
      {
        "duration": 1364,
        "start_time": "2021-08-16T18:29:37.863Z"
      },
      {
        "duration": 691,
        "start_time": "2021-08-16T18:29:39.229Z"
      },
      {
        "duration": 19,
        "start_time": "2021-08-16T18:29:39.922Z"
      },
      {
        "duration": 14,
        "start_time": "2021-08-16T18:29:39.943Z"
      },
      {
        "duration": 8,
        "start_time": "2021-08-16T18:29:39.958Z"
      },
      {
        "duration": 9,
        "start_time": "2021-08-16T18:29:39.968Z"
      },
      {
        "duration": 16,
        "start_time": "2021-08-16T18:29:39.979Z"
      },
      {
        "duration": 16,
        "start_time": "2021-08-16T18:29:39.997Z"
      },
      {
        "duration": 21,
        "start_time": "2021-08-16T18:29:40.015Z"
      },
      {
        "duration": 5,
        "start_time": "2021-08-16T18:29:40.037Z"
      },
      {
        "duration": 540,
        "start_time": "2021-08-16T18:29:40.044Z"
      },
      {
        "duration": 362,
        "start_time": "2021-08-16T18:29:40.586Z"
      },
      {
        "duration": 167,
        "start_time": "2021-08-16T18:29:40.949Z"
      },
      {
        "duration": 826,
        "start_time": "2021-08-16T18:29:41.117Z"
      },
      {
        "duration": 7,
        "start_time": "2021-08-16T18:29:41.945Z"
      },
      {
        "duration": 361,
        "start_time": "2021-08-16T18:29:41.953Z"
      },
      {
        "duration": 227,
        "start_time": "2021-08-16T18:29:42.316Z"
      },
      {
        "duration": 236,
        "start_time": "2021-08-16T18:29:42.545Z"
      },
      {
        "duration": 10,
        "start_time": "2021-08-16T18:29:42.783Z"
      },
      {
        "duration": 12,
        "start_time": "2021-08-16T18:29:42.795Z"
      },
      {
        "duration": 701,
        "start_time": "2021-08-16T18:29:42.809Z"
      },
      {
        "duration": 29,
        "start_time": "2021-08-16T18:56:30.451Z"
      },
      {
        "duration": 5,
        "start_time": "2021-08-16T18:57:24.103Z"
      },
      {
        "duration": 23,
        "start_time": "2021-08-16T18:57:32.507Z"
      },
      {
        "duration": 5,
        "start_time": "2021-08-16T18:59:48.319Z"
      },
      {
        "duration": 3,
        "start_time": "2021-08-16T19:01:42.806Z"
      },
      {
        "duration": 27,
        "start_time": "2021-08-16T19:02:28.056Z"
      },
      {
        "duration": 10,
        "start_time": "2021-08-16T19:03:14.892Z"
      },
      {
        "duration": 11,
        "start_time": "2021-08-16T19:03:31.412Z"
      },
      {
        "duration": 6923,
        "start_time": "2021-08-16T19:04:32.875Z"
      },
      {
        "duration": 19,
        "start_time": "2021-08-16T19:05:02.214Z"
      },
      {
        "duration": 13,
        "start_time": "2021-08-16T19:05:41.524Z"
      },
      {
        "duration": 14,
        "start_time": "2021-08-16T19:06:13.561Z"
      },
      {
        "duration": 13,
        "start_time": "2021-08-16T19:06:29.416Z"
      },
      {
        "duration": 272,
        "start_time": "2021-08-16T19:08:40.697Z"
      },
      {
        "duration": 310,
        "start_time": "2021-08-16T19:08:52.239Z"
      },
      {
        "duration": 3,
        "start_time": "2021-08-16T19:09:27.715Z"
      },
      {
        "duration": 494,
        "start_time": "2021-08-16T19:09:46.958Z"
      },
      {
        "duration": 4,
        "start_time": "2021-08-16T19:10:43.402Z"
      },
      {
        "duration": 276,
        "start_time": "2021-08-16T19:10:53.229Z"
      },
      {
        "duration": 3,
        "start_time": "2021-08-16T19:11:06.237Z"
      },
      {
        "duration": 310,
        "start_time": "2021-08-16T19:11:35.789Z"
      },
      {
        "duration": 4,
        "start_time": "2021-08-16T19:12:04.333Z"
      },
      {
        "duration": 288,
        "start_time": "2021-08-16T19:12:07.630Z"
      },
      {
        "duration": 3,
        "start_time": "2021-08-16T19:12:48.010Z"
      },
      {
        "duration": 279,
        "start_time": "2021-08-16T19:12:57.606Z"
      },
      {
        "duration": 9855,
        "start_time": "2021-08-16T19:13:18.696Z"
      },
      {
        "duration": 22,
        "start_time": "2021-08-16T19:18:29.960Z"
      },
      {
        "duration": 266,
        "start_time": "2021-08-16T19:22:37.097Z"
      },
      {
        "duration": 4,
        "start_time": "2021-08-16T19:22:44.673Z"
      },
      {
        "duration": 5,
        "start_time": "2021-08-16T19:23:11.802Z"
      },
      {
        "duration": 96,
        "start_time": "2021-08-16T19:29:25.407Z"
      },
      {
        "duration": 270,
        "start_time": "2021-08-16T19:29:45.778Z"
      },
      {
        "duration": 694019,
        "start_time": "2021-08-16T19:34:12.543Z"
      },
      {
        "duration": 1344,
        "start_time": "2021-08-16T19:46:23.697Z"
      },
      {
        "duration": 705,
        "start_time": "2021-08-16T19:46:25.042Z"
      },
      {
        "duration": 10,
        "start_time": "2021-08-16T19:46:25.749Z"
      },
      {
        "duration": 15,
        "start_time": "2021-08-16T19:46:25.760Z"
      },
      {
        "duration": 7,
        "start_time": "2021-08-16T19:46:25.777Z"
      },
      {
        "duration": 4,
        "start_time": "2021-08-16T19:46:25.786Z"
      },
      {
        "duration": 6,
        "start_time": "2021-08-16T19:46:25.791Z"
      },
      {
        "duration": 42,
        "start_time": "2021-08-16T19:46:25.799Z"
      },
      {
        "duration": 12,
        "start_time": "2021-08-16T19:46:25.843Z"
      },
      {
        "duration": 5,
        "start_time": "2021-08-16T19:46:25.857Z"
      },
      {
        "duration": 631,
        "start_time": "2021-08-16T19:46:25.864Z"
      },
      {
        "duration": 268,
        "start_time": "2021-08-16T19:46:26.497Z"
      },
      {
        "duration": 169,
        "start_time": "2021-08-16T19:46:26.767Z"
      },
      {
        "duration": 913,
        "start_time": "2021-08-16T19:46:26.941Z"
      },
      {
        "duration": 7,
        "start_time": "2021-08-16T19:46:27.856Z"
      },
      {
        "duration": 363,
        "start_time": "2021-08-16T19:46:27.865Z"
      },
      {
        "duration": 238,
        "start_time": "2021-08-16T19:46:28.230Z"
      },
      {
        "duration": 272,
        "start_time": "2021-08-16T19:46:28.470Z"
      },
      {
        "duration": 14,
        "start_time": "2021-08-16T19:46:28.745Z"
      },
      {
        "duration": 32,
        "start_time": "2021-08-16T19:46:28.761Z"
      },
      {
        "duration": 5,
        "start_time": "2021-08-16T19:46:28.795Z"
      },
      {
        "duration": 16,
        "start_time": "2021-08-16T19:46:28.801Z"
      },
      {
        "duration": 21,
        "start_time": "2021-08-16T19:46:28.820Z"
      },
      {
        "duration": 1434630,
        "start_time": "2021-08-16T19:46:28.843Z"
      },
      {
        "duration": 1408,
        "start_time": "2021-08-16T20:11:10.799Z"
      },
      {
        "duration": 706,
        "start_time": "2021-08-16T20:11:12.208Z"
      },
      {
        "duration": 10,
        "start_time": "2021-08-16T20:11:12.916Z"
      },
      {
        "duration": 21,
        "start_time": "2021-08-16T20:11:12.928Z"
      },
      {
        "duration": 11,
        "start_time": "2021-08-16T20:11:12.951Z"
      },
      {
        "duration": 17,
        "start_time": "2021-08-16T20:11:12.963Z"
      },
      {
        "duration": 16,
        "start_time": "2021-08-16T20:11:12.981Z"
      },
      {
        "duration": 19,
        "start_time": "2021-08-16T20:11:13.000Z"
      },
      {
        "duration": 12,
        "start_time": "2021-08-16T20:11:13.021Z"
      },
      {
        "duration": 10,
        "start_time": "2021-08-16T20:11:13.035Z"
      },
      {
        "duration": 620,
        "start_time": "2021-08-16T20:11:13.046Z"
      },
      {
        "duration": 274,
        "start_time": "2021-08-16T20:11:13.667Z"
      },
      {
        "duration": 174,
        "start_time": "2021-08-16T20:11:13.942Z"
      },
      {
        "duration": 867,
        "start_time": "2021-08-16T20:11:14.118Z"
      },
      {
        "duration": 8,
        "start_time": "2021-08-16T20:11:14.986Z"
      },
      {
        "duration": 383,
        "start_time": "2021-08-16T20:11:14.995Z"
      },
      {
        "duration": 231,
        "start_time": "2021-08-16T20:11:15.380Z"
      },
      {
        "duration": 236,
        "start_time": "2021-08-16T20:11:15.613Z"
      },
      {
        "duration": 10,
        "start_time": "2021-08-16T20:11:15.850Z"
      },
      {
        "duration": 22,
        "start_time": "2021-08-16T20:11:15.861Z"
      },
      {
        "duration": 4,
        "start_time": "2021-08-16T20:11:15.885Z"
      },
      {
        "duration": 7,
        "start_time": "2021-08-16T20:11:15.891Z"
      },
      {
        "duration": 5,
        "start_time": "2021-08-16T20:11:15.902Z"
      },
      {
        "duration": 169092,
        "start_time": "2021-08-16T20:11:15.908Z"
      },
      {
        "duration": 218676,
        "start_time": "2021-08-16T20:16:24.867Z"
      },
      {
        "duration": 1381,
        "start_time": "2021-08-16T20:23:40.061Z"
      },
      {
        "duration": 710,
        "start_time": "2021-08-16T20:23:41.444Z"
      },
      {
        "duration": 12,
        "start_time": "2021-08-16T20:23:42.156Z"
      },
      {
        "duration": 16,
        "start_time": "2021-08-16T20:23:42.170Z"
      },
      {
        "duration": 9,
        "start_time": "2021-08-16T20:23:42.188Z"
      },
      {
        "duration": 4,
        "start_time": "2021-08-16T20:23:42.199Z"
      },
      {
        "duration": 36,
        "start_time": "2021-08-16T20:23:42.205Z"
      },
      {
        "duration": 11,
        "start_time": "2021-08-16T20:23:42.244Z"
      },
      {
        "duration": 12,
        "start_time": "2021-08-16T20:23:42.257Z"
      },
      {
        "duration": 6,
        "start_time": "2021-08-16T20:23:42.270Z"
      },
      {
        "duration": 638,
        "start_time": "2021-08-16T20:23:42.278Z"
      },
      {
        "duration": 268,
        "start_time": "2021-08-16T20:23:42.918Z"
      },
      {
        "duration": 176,
        "start_time": "2021-08-16T20:23:43.188Z"
      },
      {
        "duration": 878,
        "start_time": "2021-08-16T20:23:43.366Z"
      },
      {
        "duration": 7,
        "start_time": "2021-08-16T20:23:44.245Z"
      },
      {
        "duration": 376,
        "start_time": "2021-08-16T20:23:44.253Z"
      },
      {
        "duration": 230,
        "start_time": "2021-08-16T20:23:44.631Z"
      },
      {
        "duration": 335,
        "start_time": "2021-08-16T20:23:44.863Z"
      },
      {
        "duration": 11,
        "start_time": "2021-08-16T20:23:45.200Z"
      },
      {
        "duration": 38,
        "start_time": "2021-08-16T20:23:45.212Z"
      },
      {
        "duration": 4,
        "start_time": "2021-08-16T20:23:45.252Z"
      },
      {
        "duration": 12,
        "start_time": "2021-08-16T20:23:45.258Z"
      },
      {
        "duration": 22,
        "start_time": "2021-08-16T20:23:45.273Z"
      },
      {
        "duration": 211432,
        "start_time": "2021-08-16T20:23:45.298Z"
      },
      {
        "duration": 530,
        "start_time": "2021-08-16T20:31:42.363Z"
      },
      {
        "duration": 276,
        "start_time": "2021-08-16T20:31:57.858Z"
      },
      {
        "duration": 154,
        "start_time": "2021-08-16T20:33:32.483Z"
      },
      {
        "duration": 168,
        "start_time": "2021-08-16T20:34:38.361Z"
      },
      {
        "duration": 1177,
        "start_time": "2021-08-16T20:37:04.055Z"
      },
      {
        "duration": 936,
        "start_time": "2021-08-16T20:37:14.457Z"
      },
      {
        "duration": 1788,
        "start_time": "2021-08-16T20:38:10.615Z"
      },
      {
        "duration": 927,
        "start_time": "2021-08-16T20:39:02.884Z"
      },
      {
        "duration": 897,
        "start_time": "2021-08-16T20:40:15.856Z"
      },
      {
        "duration": 1266,
        "start_time": "2021-08-16T20:40:40.834Z"
      },
      {
        "duration": 892,
        "start_time": "2021-08-16T20:41:05.473Z"
      },
      {
        "duration": 113,
        "start_time": "2021-08-16T20:46:09.049Z"
      },
      {
        "duration": 110,
        "start_time": "2021-08-16T20:47:17.424Z"
      },
      {
        "duration": 116,
        "start_time": "2021-08-16T20:47:45.484Z"
      },
      {
        "duration": 253,
        "start_time": "2021-08-16T21:02:01.962Z"
      },
      {
        "duration": 541,
        "start_time": "2021-08-16T21:03:12.623Z"
      },
      {
        "duration": 10,
        "start_time": "2021-08-16T21:04:32.649Z"
      },
      {
        "duration": 4,
        "start_time": "2021-08-16T21:04:41.685Z"
      },
      {
        "duration": 784,
        "start_time": "2021-08-16T21:07:26.363Z"
      },
      {
        "duration": 533,
        "start_time": "2021-08-16T21:08:06.519Z"
      },
      {
        "duration": 536,
        "start_time": "2021-08-16T21:08:19.051Z"
      },
      {
        "duration": 541,
        "start_time": "2021-08-16T21:08:25.336Z"
      },
      {
        "duration": 2027,
        "start_time": "2021-08-17T13:53:55.844Z"
      },
      {
        "duration": 851,
        "start_time": "2021-08-17T13:53:57.874Z"
      },
      {
        "duration": 12,
        "start_time": "2021-08-17T13:53:58.727Z"
      },
      {
        "duration": 45,
        "start_time": "2021-08-17T13:53:58.742Z"
      },
      {
        "duration": 13,
        "start_time": "2021-08-17T13:53:58.790Z"
      },
      {
        "duration": 6,
        "start_time": "2021-08-17T13:53:58.805Z"
      },
      {
        "duration": 5,
        "start_time": "2021-08-17T13:54:02.563Z"
      },
      {
        "duration": 16,
        "start_time": "2021-08-17T13:54:03.634Z"
      },
      {
        "duration": 21,
        "start_time": "2021-08-17T13:54:05.581Z"
      },
      {
        "duration": 10,
        "start_time": "2021-08-17T13:54:06.085Z"
      },
      {
        "duration": 938,
        "start_time": "2021-08-17T13:54:06.576Z"
      },
      {
        "duration": 286,
        "start_time": "2021-08-17T13:54:08.017Z"
      },
      {
        "duration": 281,
        "start_time": "2021-08-17T13:54:08.966Z"
      },
      {
        "duration": 1587,
        "start_time": "2021-08-17T13:54:11.829Z"
      },
      {
        "duration": 10,
        "start_time": "2021-08-17T13:54:15.315Z"
      },
      {
        "duration": 418,
        "start_time": "2021-08-17T13:54:15.539Z"
      },
      {
        "duration": 202,
        "start_time": "2021-08-17T13:54:16.146Z"
      },
      {
        "duration": 474,
        "start_time": "2021-08-17T13:54:16.354Z"
      },
      {
        "duration": 228,
        "start_time": "2021-08-17T13:54:16.830Z"
      },
      {
        "duration": 450,
        "start_time": "2021-08-17T13:54:17.061Z"
      },
      {
        "duration": 242,
        "start_time": "2021-08-17T13:54:17.513Z"
      },
      {
        "duration": 6,
        "start_time": "2021-08-17T13:54:58.563Z"
      },
      {
        "duration": 3,
        "start_time": "2021-08-17T13:54:59.949Z"
      },
      {
        "duration": 294581,
        "start_time": "2021-08-17T13:55:01.267Z"
      },
      {
        "duration": 756,
        "start_time": "2021-08-17T14:04:27.251Z"
      },
      {
        "duration": 90,
        "start_time": "2021-08-17T15:19:34.521Z"
      },
      {
        "duration": 129,
        "start_time": "2021-08-17T15:20:01.304Z"
      },
      {
        "duration": 1995,
        "start_time": "2021-08-17T15:22:20.060Z"
      },
      {
        "duration": 844,
        "start_time": "2021-08-17T15:22:22.058Z"
      },
      {
        "duration": 13,
        "start_time": "2021-08-17T15:22:23.342Z"
      },
      {
        "duration": 26,
        "start_time": "2021-08-17T15:22:23.967Z"
      },
      {
        "duration": 12,
        "start_time": "2021-08-17T15:22:27.727Z"
      },
      {
        "duration": 6,
        "start_time": "2021-08-17T15:22:28.679Z"
      },
      {
        "duration": 6,
        "start_time": "2021-08-17T15:22:31.787Z"
      },
      {
        "duration": 17,
        "start_time": "2021-08-17T15:22:33.207Z"
      },
      {
        "duration": 18,
        "start_time": "2021-08-17T15:22:37.123Z"
      },
      {
        "duration": 8,
        "start_time": "2021-08-17T15:22:40.590Z"
      },
      {
        "duration": 926,
        "start_time": "2021-08-17T15:22:41.354Z"
      },
      {
        "duration": 267,
        "start_time": "2021-08-17T15:22:43.705Z"
      },
      {
        "duration": 272,
        "start_time": "2021-08-17T15:22:45.913Z"
      },
      {
        "duration": 1609,
        "start_time": "2021-08-17T15:22:52.862Z"
      },
      {
        "duration": 11,
        "start_time": "2021-08-17T15:22:58.127Z"
      },
      {
        "duration": 404,
        "start_time": "2021-08-17T15:22:58.842Z"
      },
      {
        "duration": 217,
        "start_time": "2021-08-17T15:22:59.939Z"
      },
      {
        "duration": 409,
        "start_time": "2021-08-17T15:23:00.434Z"
      },
      {
        "duration": 210,
        "start_time": "2021-08-17T15:23:00.955Z"
      },
      {
        "duration": 413,
        "start_time": "2021-08-17T15:23:01.546Z"
      },
      {
        "duration": 209,
        "start_time": "2021-08-17T15:23:02.363Z"
      },
      {
        "duration": 96,
        "start_time": "2021-08-17T15:23:38.397Z"
      },
      {
        "duration": 40,
        "start_time": "2021-08-17T15:25:12.952Z"
      },
      {
        "duration": 406,
        "start_time": "2021-08-17T15:25:16.026Z"
      },
      {
        "duration": 196,
        "start_time": "2021-08-17T15:25:18.488Z"
      },
      {
        "duration": 28,
        "start_time": "2021-08-17T15:25:40.250Z"
      },
      {
        "duration": 454,
        "start_time": "2021-08-17T15:25:46.748Z"
      },
      {
        "duration": 218,
        "start_time": "2021-08-17T15:25:47.513Z"
      },
      {
        "duration": 434,
        "start_time": "2021-08-17T15:25:59.257Z"
      },
      {
        "duration": 214,
        "start_time": "2021-08-17T15:26:02.208Z"
      },
      {
        "duration": 29,
        "start_time": "2021-08-17T15:26:40.745Z"
      },
      {
        "duration": 6,
        "start_time": "2021-08-17T15:26:49.289Z"
      },
      {
        "duration": 4,
        "start_time": "2021-08-17T15:26:49.762Z"
      },
      {
        "duration": 585,
        "start_time": "2021-08-17T15:26:50.293Z"
      },
      {
        "duration": 44,
        "start_time": "2021-08-17T15:27:19.235Z"
      },
      {
        "duration": 1980,
        "start_time": "2021-08-17T15:27:49.435Z"
      },
      {
        "duration": 921,
        "start_time": "2021-08-17T15:27:51.418Z"
      },
      {
        "duration": 24,
        "start_time": "2021-08-17T15:27:52.342Z"
      },
      {
        "duration": 26,
        "start_time": "2021-08-17T15:27:52.369Z"
      },
      {
        "duration": 12,
        "start_time": "2021-08-17T15:27:52.397Z"
      },
      {
        "duration": 6,
        "start_time": "2021-08-17T15:27:52.411Z"
      },
      {
        "duration": 36,
        "start_time": "2021-08-17T15:27:52.420Z"
      },
      {
        "duration": 17,
        "start_time": "2021-08-17T15:27:52.460Z"
      },
      {
        "duration": 19,
        "start_time": "2021-08-17T15:27:52.481Z"
      },
      {
        "duration": 9,
        "start_time": "2021-08-17T15:27:52.503Z"
      },
      {
        "duration": 982,
        "start_time": "2021-08-17T15:27:52.515Z"
      },
      {
        "duration": 416,
        "start_time": "2021-08-17T15:27:53.499Z"
      },
      {
        "duration": 287,
        "start_time": "2021-08-17T15:27:53.918Z"
      },
      {
        "duration": 1475,
        "start_time": "2021-08-17T15:27:54.207Z"
      },
      {
        "duration": 11,
        "start_time": "2021-08-17T15:27:55.685Z"
      },
      {
        "duration": 604,
        "start_time": "2021-08-17T15:27:55.698Z"
      },
      {
        "duration": 233,
        "start_time": "2021-08-17T15:27:56.305Z"
      },
      {
        "duration": 40,
        "start_time": "2021-08-17T15:27:56.541Z"
      },
      {
        "duration": 436,
        "start_time": "2021-08-17T15:27:56.584Z"
      },
      {
        "duration": 219,
        "start_time": "2021-08-17T15:27:57.023Z"
      },
      {
        "duration": 39,
        "start_time": "2021-08-17T15:27:57.245Z"
      },
      {
        "duration": 432,
        "start_time": "2021-08-17T15:27:57.287Z"
      },
      {
        "duration": 235,
        "start_time": "2021-08-17T15:27:57.723Z"
      },
      {
        "duration": 30,
        "start_time": "2021-08-17T15:27:57.961Z"
      },
      {
        "duration": 11,
        "start_time": "2021-08-17T15:27:57.994Z"
      },
      {
        "duration": 22,
        "start_time": "2021-08-17T15:27:58.007Z"
      },
      {
        "duration": 607,
        "start_time": "2021-08-17T15:27:58.032Z"
      },
      {
        "duration": -119,
        "start_time": "2021-08-17T15:27:58.760Z"
      },
      {
        "duration": 2235,
        "start_time": "2021-08-17T15:34:52.830Z"
      },
      {
        "duration": 954,
        "start_time": "2021-08-17T15:34:56.088Z"
      },
      {
        "duration": 13,
        "start_time": "2021-08-17T15:35:03.467Z"
      },
      {
        "duration": 26,
        "start_time": "2021-08-17T15:35:08.786Z"
      },
      {
        "duration": 12,
        "start_time": "2021-08-17T15:35:14.682Z"
      },
      {
        "duration": 5,
        "start_time": "2021-08-17T15:35:15.535Z"
      },
      {
        "duration": 6,
        "start_time": "2021-08-17T15:35:18.564Z"
      },
      {
        "duration": 18,
        "start_time": "2021-08-17T15:35:28.191Z"
      },
      {
        "duration": 18,
        "start_time": "2021-08-17T15:35:32.631Z"
      },
      {
        "duration": 8,
        "start_time": "2021-08-17T15:35:36.083Z"
      },
      {
        "duration": 921,
        "start_time": "2021-08-17T15:35:37.423Z"
      },
      {
        "duration": 283,
        "start_time": "2021-08-17T15:35:40.071Z"
      },
      {
        "duration": 282,
        "start_time": "2021-08-17T15:35:48.245Z"
      },
      {
        "duration": 1543,
        "start_time": "2021-08-17T15:36:00.791Z"
      },
      {
        "duration": 12,
        "start_time": "2021-08-17T15:36:15.092Z"
      },
      {
        "duration": 400,
        "start_time": "2021-08-17T15:36:16.199Z"
      },
      {
        "duration": 213,
        "start_time": "2021-08-17T15:36:19.763Z"
      },
      {
        "duration": 33,
        "start_time": "2021-08-17T15:36:34.475Z"
      },
      {
        "duration": 26,
        "start_time": "2021-08-17T15:36:42.528Z"
      },
      {
        "duration": 25,
        "start_time": "2021-08-17T15:36:50.277Z"
      },
      {
        "duration": 705,
        "start_time": "2021-08-17T15:39:02.410Z"
      },
      {
        "duration": 65,
        "start_time": "2021-08-17T15:39:11.975Z"
      },
      {
        "duration": 18,
        "start_time": "2021-08-17T15:39:31.836Z"
      },
      {
        "duration": 399,
        "start_time": "2021-08-17T15:39:54.826Z"
      },
      {
        "duration": 195,
        "start_time": "2021-08-17T15:39:56.050Z"
      },
      {
        "duration": 62,
        "start_time": "2021-08-17T15:40:13.159Z"
      },
      {
        "duration": 41,
        "start_time": "2021-08-17T15:40:26.189Z"
      },
      {
        "duration": 45,
        "start_time": "2021-08-17T15:40:39.698Z"
      },
      {
        "duration": 12,
        "start_time": "2021-08-17T15:40:47.829Z"
      },
      {
        "duration": 439,
        "start_time": "2021-08-17T15:41:13.424Z"
      },
      {
        "duration": 207,
        "start_time": "2021-08-17T15:41:16.289Z"
      },
      {
        "duration": 11,
        "start_time": "2021-08-17T15:41:44.817Z"
      },
      {
        "duration": 23,
        "start_time": "2021-08-17T15:41:56.481Z"
      },
      {
        "duration": 6,
        "start_time": "2021-08-17T15:42:08.187Z"
      },
      {
        "duration": 4,
        "start_time": "2021-08-17T15:42:08.897Z"
      },
      {
        "duration": 268956,
        "start_time": "2021-08-17T15:42:09.774Z"
      },
      {
        "duration": 713,
        "start_time": "2021-08-17T15:46:38.733Z"
      },
      {
        "duration": 430,
        "start_time": "2021-08-17T17:03:30.718Z"
      },
      {
        "duration": 549,
        "start_time": "2021-08-17T17:15:09.505Z"
      },
      {
        "duration": 18,
        "start_time": "2021-08-17T17:15:47.715Z"
      },
      {
        "duration": 5,
        "start_time": "2021-08-17T17:17:45.145Z"
      },
      {
        "duration": 316,
        "start_time": "2021-08-17T17:21:25.946Z"
      },
      {
        "duration": 6,
        "start_time": "2021-08-17T17:24:52.794Z"
      },
      {
        "duration": 8,
        "start_time": "2021-08-17T17:25:29.379Z"
      },
      {
        "duration": 7,
        "start_time": "2021-08-17T17:25:36.863Z"
      },
      {
        "duration": 7,
        "start_time": "2021-08-17T17:25:45.477Z"
      },
      {
        "duration": 6,
        "start_time": "2021-08-17T17:26:05.080Z"
      },
      {
        "duration": 6,
        "start_time": "2021-08-17T17:26:13.462Z"
      },
      {
        "duration": 289,
        "start_time": "2021-08-17T17:26:40.239Z"
      },
      {
        "duration": 259,
        "start_time": "2021-08-17T17:27:14.357Z"
      },
      {
        "duration": 7,
        "start_time": "2021-08-17T17:27:26.629Z"
      },
      {
        "duration": 8,
        "start_time": "2021-08-17T17:27:42.081Z"
      },
      {
        "duration": 6,
        "start_time": "2021-08-17T17:29:18.602Z"
      },
      {
        "duration": 283,
        "start_time": "2021-08-17T17:30:08.502Z"
      },
      {
        "duration": 18,
        "start_time": "2021-08-17T17:31:30.475Z"
      },
      {
        "duration": 16,
        "start_time": "2021-08-17T17:31:50.885Z"
      },
      {
        "duration": 15,
        "start_time": "2021-08-17T17:32:08.849Z"
      },
      {
        "duration": 25,
        "start_time": "2021-08-17T17:32:18.882Z"
      },
      {
        "duration": 24,
        "start_time": "2021-08-17T17:32:30.213Z"
      },
      {
        "duration": 1664,
        "start_time": "2022-11-08T13:51:36.935Z"
      },
      {
        "duration": 2891,
        "start_time": "2022-11-08T13:51:38.601Z"
      },
      {
        "duration": 11,
        "start_time": "2022-11-08T13:51:41.494Z"
      },
      {
        "duration": 28,
        "start_time": "2022-11-08T13:51:41.507Z"
      },
      {
        "duration": 6,
        "start_time": "2022-11-08T13:51:41.537Z"
      },
      {
        "duration": 7,
        "start_time": "2022-11-08T13:51:41.544Z"
      },
      {
        "duration": 6,
        "start_time": "2022-11-08T13:51:41.553Z"
      },
      {
        "duration": 17,
        "start_time": "2022-11-08T13:51:41.561Z"
      },
      {
        "duration": 16,
        "start_time": "2022-11-08T13:51:41.580Z"
      },
      {
        "duration": 6,
        "start_time": "2022-11-08T13:51:41.630Z"
      },
      {
        "duration": 260,
        "start_time": "2022-11-08T13:51:41.638Z"
      },
      {
        "duration": 186,
        "start_time": "2022-11-08T13:51:41.901Z"
      },
      {
        "duration": 72,
        "start_time": "2022-11-08T13:51:42.089Z"
      },
      {
        "duration": 720,
        "start_time": "2022-11-08T13:51:42.162Z"
      },
      {
        "duration": 8,
        "start_time": "2022-11-08T13:51:42.884Z"
      },
      {
        "duration": 209,
        "start_time": "2022-11-08T13:51:42.894Z"
      },
      {
        "duration": 110,
        "start_time": "2022-11-08T13:51:43.105Z"
      },
      {
        "duration": 23,
        "start_time": "2022-11-08T13:51:43.216Z"
      },
      {
        "duration": 206,
        "start_time": "2022-11-08T13:51:43.240Z"
      },
      {
        "duration": 105,
        "start_time": "2022-11-08T13:51:43.448Z"
      },
      {
        "duration": 10,
        "start_time": "2022-11-08T13:51:43.555Z"
      },
      {
        "duration": 223,
        "start_time": "2022-11-08T13:51:43.567Z"
      },
      {
        "duration": 207,
        "start_time": "2022-11-08T13:51:43.792Z"
      },
      {
        "duration": 10,
        "start_time": "2022-11-08T13:51:44.001Z"
      },
      {
        "duration": 22,
        "start_time": "2022-11-08T13:51:44.012Z"
      },
      {
        "duration": 5,
        "start_time": "2022-11-08T13:51:44.036Z"
      },
      {
        "duration": 1535,
        "start_time": "2022-11-10T18:32:14.383Z"
      },
      {
        "duration": 1710,
        "start_time": "2022-11-10T18:32:15.920Z"
      },
      {
        "duration": 10,
        "start_time": "2022-11-10T18:32:17.632Z"
      },
      {
        "duration": 17,
        "start_time": "2022-11-10T18:32:17.644Z"
      },
      {
        "duration": 5,
        "start_time": "2022-11-10T18:32:17.663Z"
      },
      {
        "duration": 5,
        "start_time": "2022-11-10T18:32:17.670Z"
      },
      {
        "duration": 5,
        "start_time": "2022-11-10T18:32:17.677Z"
      },
      {
        "duration": 16,
        "start_time": "2022-11-10T18:32:17.684Z"
      },
      {
        "duration": 13,
        "start_time": "2022-11-10T18:32:17.702Z"
      },
      {
        "duration": 5,
        "start_time": "2022-11-10T18:32:17.717Z"
      },
      {
        "duration": 259,
        "start_time": "2022-11-10T18:32:17.723Z"
      },
      {
        "duration": 137,
        "start_time": "2022-11-10T18:32:17.984Z"
      },
      {
        "duration": 73,
        "start_time": "2022-11-10T18:32:18.123Z"
      },
      {
        "duration": 662,
        "start_time": "2022-11-10T18:32:18.198Z"
      },
      {
        "duration": 8,
        "start_time": "2022-11-10T18:32:18.862Z"
      },
      {
        "duration": 223,
        "start_time": "2022-11-10T18:32:18.872Z"
      },
      {
        "duration": 116,
        "start_time": "2022-11-10T18:32:19.097Z"
      },
      {
        "duration": 13,
        "start_time": "2022-11-10T18:32:19.215Z"
      },
      {
        "duration": 182,
        "start_time": "2022-11-10T18:32:19.229Z"
      },
      {
        "duration": 95,
        "start_time": "2022-11-10T18:32:19.412Z"
      },
      {
        "duration": 9,
        "start_time": "2022-11-10T18:32:19.508Z"
      },
      {
        "duration": 238,
        "start_time": "2022-11-10T18:32:19.518Z"
      },
      {
        "duration": 200,
        "start_time": "2022-11-10T18:32:19.758Z"
      },
      {
        "duration": 8,
        "start_time": "2022-11-10T18:32:19.960Z"
      },
      {
        "duration": 5,
        "start_time": "2022-11-10T18:32:19.970Z"
      },
      {
        "duration": 5,
        "start_time": "2022-11-10T18:32:19.977Z"
      }
    ],
    "kernelspec": {
      "display_name": "Python 3 (ipykernel)",
      "language": "python",
      "name": "python3"
    },
    "language_info": {
      "codemirror_mode": {
        "name": "ipython",
        "version": 3
      },
      "file_extension": ".py",
      "mimetype": "text/x-python",
      "name": "python",
      "nbconvert_exporter": "python",
      "pygments_lexer": "ipython3",
      "version": "3.9.5"
    },
    "toc": {
      "base_numbering": 1,
      "nav_menu": {},
      "number_sections": true,
      "sideBar": true,
      "skip_h1_title": true,
      "title_cell": "Содержание",
      "title_sidebar": "Contents",
      "toc_cell": true,
      "toc_position": {
        "height": "calc(100% - 180px)",
        "left": "10px",
        "top": "150px",
        "width": "216.396px"
      },
      "toc_section_display": true,
      "toc_window_display": true
    },
    "colab": {
      "provenance": [],
      "collapsed_sections": [
        "bD5XOkSN7Bb_"
      ]
    }
  },
  "nbformat": 4,
  "nbformat_minor": 0
}